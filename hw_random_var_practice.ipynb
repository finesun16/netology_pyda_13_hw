{
 "cells": [
  {
   "cell_type": "markdown",
   "metadata": {},
   "source": [
    "![title](hw_var.png) "
   ]
  },
  {
   "cell_type": "code",
   "execution_count": 2,
   "metadata": {},
   "outputs": [],
   "source": [
    "import numpy as np"
   ]
  },
  {
   "cell_type": "code",
   "execution_count": 51,
   "metadata": {},
   "outputs": [
    {
     "name": "stdout",
     "output_type": "stream",
     "text": [
      "Вероятность какого либо выигрыша: 0.20279\n",
      "Выигрыш/проигрыш: -17826\n",
      "В среднем за игру выигрыш/проигрыш: -0.17826\n"
     ]
    }
   ],
   "source": [
    "trials = 100000\n",
    "successes = 0\n",
    "bet = 0\n",
    "jackpot = 0\n",
    "for i in range(trials):\n",
    "    bet += 1\n",
    "    x = np.random.randint(0, 10)  # генерируем от 0 до 9 \n",
    "    y = np.random.randint(0, 10)\n",
    "    z = np.random.randint(0, 10)\n",
    "    number = (x * 10 + y) * 10 + z\n",
    "    # считаем количество удачных исходов и количество денег при удачном исходе.\n",
    "    if number == 777:\n",
    "        successes += 1\n",
    "        jackpot += 200\n",
    "    elif number == 999:\n",
    "        successes += 1\n",
    "        jackpot += 100\n",
    "    elif number == 555:\n",
    "        successes += 1\n",
    "        jackpot += 50\n",
    "    elif number == 333:\n",
    "        successes += 1\n",
    "        jackpot += 15\n",
    "    elif number == 11:\n",
    "        successes += 1\n",
    "        jackpot += 10\n",
    "    elif (x != 7) and (y * 10 + z == 77):\n",
    "        successes += 1\n",
    "        jackpot += 5\n",
    "    elif ((x != 7) or (y != 7)) and (z == 7):\n",
    "        successes += 1\n",
    "        jackpot += 3\n",
    "    elif y == 0 and z == 0:\n",
    "        successes += 1\n",
    "        jackpot += 2\n",
    "    elif z == 0:\n",
    "        successes += 1\n",
    "        jackpot += 1\n",
    "\n",
    "print(f'Вероятность какого либо выигрыша: {successes / trials}')\n",
    "print(f'Выигрыш/проигрыш: {jackpot -  bet}')\n",
    "print(f'В среднем за игру выигрыш/проигрыш: {(jackpot -  bet) / trials}')"
   ]
  }
 ],
 "metadata": {
  "kernelspec": {
   "display_name": "Python 3",
   "language": "python",
   "name": "python3"
  },
  "language_info": {
   "codemirror_mode": {
    "name": "ipython",
    "version": 3
   },
   "file_extension": ".py",
   "mimetype": "text/x-python",
   "name": "python",
   "nbconvert_exporter": "python",
   "pygments_lexer": "ipython3",
   "version": "3.7.6"
  }
 },
 "nbformat": 4,
 "nbformat_minor": 4
}
