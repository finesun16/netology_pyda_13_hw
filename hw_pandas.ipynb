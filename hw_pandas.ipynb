{
 "cells": [
  {
   "cell_type": "markdown",
   "metadata": {},
   "source": [
    "## Домашнее задание"
   ]
  },
  {
   "cell_type": "markdown",
   "metadata": {},
   "source": [
    "### Задание 1\n",
    "Скачайте с сайта [https://grouplens.org/datasets/movielens/](https://grouplens.org/datasets/movielens/) датасет любого размера. Определите какому фильму было выставлено больше всего оценок 5.0.\n"
   ]
  },
  {
   "cell_type": "code",
   "execution_count": 3,
   "metadata": {},
   "outputs": [],
   "source": [
    "import pandas as pd"
   ]
  },
  {
   "cell_type": "code",
   "execution_count": 65,
   "metadata": {},
   "outputs": [
    {
     "name": "stdout",
     "output_type": "stream",
     "text": [
      "<class 'pandas.core.frame.DataFrame'>\n",
      "RangeIndex: 100000 entries, 0 to 99999\n",
      "Data columns (total 4 columns):\n",
      " #   Column     Non-Null Count   Dtype\n",
      "---  ------     --------------   -----\n",
      " 0   user_id    100000 non-null  int64\n",
      " 1   movie_id   100000 non-null  int64\n",
      " 2   rating     100000 non-null  int64\n",
      " 3   timestamp  100000 non-null  int64\n",
      "dtypes: int64(4)\n",
      "memory usage: 3.1 MB\n"
     ]
    }
   ],
   "source": [
    "# загружаем датасет\n",
    "rating = pd.read_csv('u.data', sep='\\t', header=None)\n",
    "# задаем название столбцов\n",
    "rating.columns = ['user_id', 'movie_id','rating','timestamp']\n",
    "rating.info()"
   ]
  },
  {
   "cell_type": "code",
   "execution_count": 49,
   "metadata": {},
   "outputs": [],
   "source": [
    "df_movie = pd.read_csv('u.item', sep='|', encoding='koi8_r', header=None)\n",
    "# задаем название столбцов\n",
    "df_movie.columns =['movie_id' , 'movie_title' , 'release date' , 'video release date' ,\n",
    "                 'IMDb URL' , 'unknown' , 'Action' , 'Adventure' , 'Animation' ,\n",
    "                 \"Children's\" , 'Comedy' , 'Crime' , 'Documentary' , 'Drama' , 'Fantasy' ,\n",
    "                 'Film-Noir' , 'Horror' , 'Musical' , 'Mystery' , 'Romance' , 'Sci-Fi' ,\n",
    "                 'Thriller' , 'War' , 'Western']\n",
    "movie = df_movie[['movie_id','movie_title']]"
   ]
  },
  {
   "cell_type": "code",
   "execution_count": 50,
   "metadata": {},
   "outputs": [],
   "source": [
    "rating_name = rating.merge(movie, on='movie_id', how='left')"
   ]
  },
  {
   "cell_type": "code",
   "execution_count": 61,
   "metadata": {},
   "outputs": [],
   "source": [
    "film_name=rating_name['movie_title'].value_counts().index.values[0]"
   ]
  },
  {
   "cell_type": "code",
   "execution_count": 64,
   "metadata": {},
   "outputs": [],
   "source": [
    "max_count=rating_name['movie_title'].value_counts().values[0]"
   ]
  },
  {
   "cell_type": "code",
   "execution_count": 63,
   "metadata": {},
   "outputs": [
    {
     "name": "stdout",
     "output_type": "stream",
     "text": [
      "Фильму Star Wars (1977) поставили наибольшее количество оценок 583\n"
     ]
    }
   ],
   "source": [
    "print(f'Фильму {film_name} поставили наибольшее количество оценок {max_count}')"
   ]
  },
  {
   "cell_type": "markdown",
   "metadata": {},
   "source": [
    "### Задание 2\n",
    "По данным файла power.csv посчитайте суммарное потребление стран Прибалтики (Латвия, Литва и Эстония) категорий 4, 12 и 21 за период с 2005 по 2010 года. Не учитывайте в расчетах отрицательные значения quantity."
   ]
  },
  {
   "cell_type": "code",
   "execution_count": 30,
   "metadata": {},
   "outputs": [],
   "source": [
    "data = pd.read_csv('power.csv')"
   ]
  },
  {
   "cell_type": "code",
   "execution_count": 29,
   "metadata": {},
   "outputs": [
    {
     "data": {
      "text/plain": [
       "240580.0"
      ]
     },
     "execution_count": 29,
     "metadata": {},
     "output_type": "execute_result"
    }
   ],
   "source": [
    "data.quantity[((data.country =='Lithuania')| (data.country =='Latvia')| (data.country =='Estonia')) & \\\n",
    "    ((data.category == 4)| (data.category == 12)| (data.category == 21)) & \\\n",
    "     ((data.year >= 2005) & (data.year <= 2010)) & (data.quantity > 0) ].sum()"
   ]
  },
  {
   "cell_type": "markdown",
   "metadata": {},
   "source": [
    "### Задание 3\n",
    "Выберите страницу любого сайта с табличными данными. Импортируйте таблицы в pandas dataframe.\n",
    "Примеры страниц (необязательно брать именно эти):\n",
    "\n",
    "[https://fortrader.org/quotes](https://fortrader.org/quotes)\n",
    "\n",
    "[https://www.finanz.ru/valyuty/v-realnom-vremenia](https://www.finanz.ru/valyuty/v-realnom-vremenia)"
   ]
  },
  {
   "cell_type": "code",
   "execution_count": 4,
   "metadata": {},
   "outputs": [],
   "source": [
    "tables = pd.read_html('https://www.finam.ru/quotes/stocks/russia/') "
   ]
  },
  {
   "cell_type": "code",
   "execution_count": 66,
   "metadata": {},
   "outputs": [
    {
     "data": {
      "text/html": [
       "<div>\n",
       "<style scoped>\n",
       "    .dataframe tbody tr th:only-of-type {\n",
       "        vertical-align: middle;\n",
       "    }\n",
       "\n",
       "    .dataframe tbody tr th {\n",
       "        vertical-align: top;\n",
       "    }\n",
       "\n",
       "    .dataframe thead th {\n",
       "        text-align: right;\n",
       "    }\n",
       "</style>\n",
       "<table border=\"1\" class=\"dataframe\">\n",
       "  <thead>\n",
       "    <tr style=\"text-align: right;\">\n",
       "      <th></th>\n",
       "      <th>Unnamed: 0</th>\n",
       "      <th>Инструмент</th>\n",
       "      <th>Посл. сделка, ₽</th>\n",
       "      <th>% Изм. цены</th>\n",
       "      <th>Открытие</th>\n",
       "      <th>Макс.</th>\n",
       "      <th>Мин.</th>\n",
       "      <th>Закрытие</th>\n",
       "      <th>Объем, шт.</th>\n",
       "      <th>Время обн.</th>\n",
       "    </tr>\n",
       "  </thead>\n",
       "  <tbody>\n",
       "    <tr>\n",
       "      <th>0</th>\n",
       "      <td>NaN</td>\n",
       "      <td>+МосЭнергоПотенциал:+6%</td>\n",
       "      <td>2.0595 ₽</td>\n",
       "      <td>0.61%</td>\n",
       "      <td>2.0485</td>\n",
       "      <td>2.0725</td>\n",
       "      <td>2.031</td>\n",
       "      <td>2.047</td>\n",
       "      <td>11 416 000</td>\n",
       "      <td>17.09 18:45</td>\n",
       "    </tr>\n",
       "    <tr>\n",
       "      <th>1</th>\n",
       "      <td>NaN</td>\n",
       "      <td>Activision</td>\n",
       "      <td>5935</td>\n",
       "      <td>-1.51%</td>\n",
       "      <td>6000.0000</td>\n",
       "      <td>6000.0000</td>\n",
       "      <td>5865.000</td>\n",
       "      <td>6026.000</td>\n",
       "      <td>616</td>\n",
       "      <td>17.09 18:38</td>\n",
       "    </tr>\n",
       "    <tr>\n",
       "      <th>2</th>\n",
       "      <td>NaN</td>\n",
       "      <td>AGRO-гдрПотенциал:+23%</td>\n",
       "      <td>747.8 ₽</td>\n",
       "      <td>1.25%</td>\n",
       "      <td>723.0000</td>\n",
       "      <td>750.0000</td>\n",
       "      <td>720.000</td>\n",
       "      <td>738.600</td>\n",
       "      <td>111 903</td>\n",
       "      <td>17.09 18:49</td>\n",
       "    </tr>\n",
       "    <tr>\n",
       "      <th>3</th>\n",
       "      <td>NaN</td>\n",
       "      <td>Amazon</td>\n",
       "      <td>225822</td>\n",
       "      <td>-3.91%</td>\n",
       "      <td>228889.0000</td>\n",
       "      <td>235000.0000</td>\n",
       "      <td>225000.000</td>\n",
       "      <td>235000.000</td>\n",
       "      <td>182</td>\n",
       "      <td>17.09 18:56</td>\n",
       "    </tr>\n",
       "    <tr>\n",
       "      <th>4</th>\n",
       "      <td>NaN</td>\n",
       "      <td>AMD Inc.</td>\n",
       "      <td>5668</td>\n",
       "      <td>-2.02%</td>\n",
       "      <td>5838.0000</td>\n",
       "      <td>5838.0000</td>\n",
       "      <td>5565.000</td>\n",
       "      <td>5785.000</td>\n",
       "      <td>4 055</td>\n",
       "      <td>17.09 19:03</td>\n",
       "    </tr>\n",
       "  </tbody>\n",
       "</table>\n",
       "</div>"
      ],
      "text/plain": [
       "   Unnamed: 0               Инструмент Посл. сделка, ₽ % Изм. цены  \\\n",
       "0         NaN  +МосЭнергоПотенциал:+6%        2.0595 ₽       0.61%   \n",
       "1         NaN               Activision            5935      -1.51%   \n",
       "2         NaN   AGRO-гдрПотенциал:+23%         747.8 ₽       1.25%   \n",
       "3         NaN                   Amazon          225822      -3.91%   \n",
       "4         NaN                 AMD Inc.            5668      -2.02%   \n",
       "\n",
       "      Открытие        Макс.        Мин.    Закрытие  Объем, шт.   Время обн.  \n",
       "0       2.0485       2.0725       2.031       2.047  11 416 000  17.09 18:45  \n",
       "1    6000.0000    6000.0000    5865.000    6026.000         616  17.09 18:38  \n",
       "2     723.0000     750.0000     720.000     738.600     111 903  17.09 18:49  \n",
       "3  228889.0000  235000.0000  225000.000  235000.000         182  17.09 18:56  \n",
       "4    5838.0000    5838.0000    5565.000    5785.000       4 055  17.09 19:03  "
      ]
     },
     "execution_count": 66,
     "metadata": {},
     "output_type": "execute_result"
    }
   ],
   "source": [
    "# Изучаем содержимое объекта tables\n",
    "df = tables[0]\n",
    "df.head()"
   ]
  }
 ],
 "metadata": {
  "kernelspec": {
   "display_name": "Python 3",
   "language": "python",
   "name": "python3"
  },
  "language_info": {
   "codemirror_mode": {
    "name": "ipython",
    "version": 3
   },
   "file_extension": ".py",
   "mimetype": "text/x-python",
   "name": "python",
   "nbconvert_exporter": "python",
   "pygments_lexer": "ipython3",
   "version": "3.7.6"
  }
 },
 "nbformat": 4,
 "nbformat_minor": 4
}
