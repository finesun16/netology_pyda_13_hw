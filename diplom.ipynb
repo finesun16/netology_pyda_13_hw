{
 "cells": [
  {
   "cell_type": "code",
   "execution_count": 1,
   "metadata": {},
   "outputs": [],
   "source": [
    "import pandas as pd\n",
    "import numpy as np\n",
    "\n",
    "import matplotlib.pyplot as plt\n",
    "import seaborn as sns\n",
    "\n",
    "sns.set(style=\"whitegrid\")\n",
    "sns.set_color_codes(\"pastel\")\n",
    "%matplotlib inline"
   ]
  },
  {
   "cell_type": "markdown",
   "metadata": {},
   "source": [
    "Загружаем датафреймы с данными о студентах обоих курсов"
   ]
  },
  {
   "cell_type": "code",
   "execution_count": 173,
   "metadata": {},
   "outputs": [],
   "source": [
    "d1 = pd.read_csv('student-mat.csv')\n",
    "d2 = pd.read_csv('student-por.csv')"
   ]
  },
  {
   "cell_type": "code",
   "execution_count": 174,
   "metadata": {},
   "outputs": [
    {
     "data": {
      "text/html": [
       "<div>\n",
       "<style scoped>\n",
       "    .dataframe tbody tr th:only-of-type {\n",
       "        vertical-align: middle;\n",
       "    }\n",
       "\n",
       "    .dataframe tbody tr th {\n",
       "        vertical-align: top;\n",
       "    }\n",
       "\n",
       "    .dataframe thead th {\n",
       "        text-align: right;\n",
       "    }\n",
       "</style>\n",
       "<table border=\"1\" class=\"dataframe\">\n",
       "  <thead>\n",
       "    <tr style=\"text-align: right;\">\n",
       "      <th></th>\n",
       "      <th>school</th>\n",
       "      <th>sex</th>\n",
       "      <th>age</th>\n",
       "      <th>address</th>\n",
       "      <th>famsize</th>\n",
       "      <th>Pstatus</th>\n",
       "      <th>Medu</th>\n",
       "      <th>Fedu</th>\n",
       "      <th>Mjob</th>\n",
       "      <th>Fjob</th>\n",
       "      <th>...</th>\n",
       "      <th>famrel</th>\n",
       "      <th>freetime</th>\n",
       "      <th>goout</th>\n",
       "      <th>Dalc</th>\n",
       "      <th>Walc</th>\n",
       "      <th>health</th>\n",
       "      <th>absences</th>\n",
       "      <th>G1</th>\n",
       "      <th>G2</th>\n",
       "      <th>G3</th>\n",
       "    </tr>\n",
       "  </thead>\n",
       "  <tbody>\n",
       "    <tr>\n",
       "      <th>0</th>\n",
       "      <td>GP</td>\n",
       "      <td>F</td>\n",
       "      <td>18</td>\n",
       "      <td>U</td>\n",
       "      <td>GT3</td>\n",
       "      <td>A</td>\n",
       "      <td>4</td>\n",
       "      <td>4</td>\n",
       "      <td>at_home</td>\n",
       "      <td>teacher</td>\n",
       "      <td>...</td>\n",
       "      <td>4</td>\n",
       "      <td>3</td>\n",
       "      <td>4</td>\n",
       "      <td>1</td>\n",
       "      <td>1</td>\n",
       "      <td>3</td>\n",
       "      <td>6</td>\n",
       "      <td>5</td>\n",
       "      <td>6</td>\n",
       "      <td>6</td>\n",
       "    </tr>\n",
       "    <tr>\n",
       "      <th>1</th>\n",
       "      <td>GP</td>\n",
       "      <td>F</td>\n",
       "      <td>17</td>\n",
       "      <td>U</td>\n",
       "      <td>GT3</td>\n",
       "      <td>T</td>\n",
       "      <td>1</td>\n",
       "      <td>1</td>\n",
       "      <td>at_home</td>\n",
       "      <td>other</td>\n",
       "      <td>...</td>\n",
       "      <td>5</td>\n",
       "      <td>3</td>\n",
       "      <td>3</td>\n",
       "      <td>1</td>\n",
       "      <td>1</td>\n",
       "      <td>3</td>\n",
       "      <td>4</td>\n",
       "      <td>5</td>\n",
       "      <td>5</td>\n",
       "      <td>6</td>\n",
       "    </tr>\n",
       "    <tr>\n",
       "      <th>2</th>\n",
       "      <td>GP</td>\n",
       "      <td>F</td>\n",
       "      <td>15</td>\n",
       "      <td>U</td>\n",
       "      <td>LE3</td>\n",
       "      <td>T</td>\n",
       "      <td>1</td>\n",
       "      <td>1</td>\n",
       "      <td>at_home</td>\n",
       "      <td>other</td>\n",
       "      <td>...</td>\n",
       "      <td>4</td>\n",
       "      <td>3</td>\n",
       "      <td>2</td>\n",
       "      <td>2</td>\n",
       "      <td>3</td>\n",
       "      <td>3</td>\n",
       "      <td>10</td>\n",
       "      <td>7</td>\n",
       "      <td>8</td>\n",
       "      <td>10</td>\n",
       "    </tr>\n",
       "    <tr>\n",
       "      <th>3</th>\n",
       "      <td>GP</td>\n",
       "      <td>F</td>\n",
       "      <td>15</td>\n",
       "      <td>U</td>\n",
       "      <td>GT3</td>\n",
       "      <td>T</td>\n",
       "      <td>4</td>\n",
       "      <td>2</td>\n",
       "      <td>health</td>\n",
       "      <td>services</td>\n",
       "      <td>...</td>\n",
       "      <td>3</td>\n",
       "      <td>2</td>\n",
       "      <td>2</td>\n",
       "      <td>1</td>\n",
       "      <td>1</td>\n",
       "      <td>5</td>\n",
       "      <td>2</td>\n",
       "      <td>15</td>\n",
       "      <td>14</td>\n",
       "      <td>15</td>\n",
       "    </tr>\n",
       "    <tr>\n",
       "      <th>4</th>\n",
       "      <td>GP</td>\n",
       "      <td>F</td>\n",
       "      <td>16</td>\n",
       "      <td>U</td>\n",
       "      <td>GT3</td>\n",
       "      <td>T</td>\n",
       "      <td>3</td>\n",
       "      <td>3</td>\n",
       "      <td>other</td>\n",
       "      <td>other</td>\n",
       "      <td>...</td>\n",
       "      <td>4</td>\n",
       "      <td>3</td>\n",
       "      <td>2</td>\n",
       "      <td>1</td>\n",
       "      <td>2</td>\n",
       "      <td>5</td>\n",
       "      <td>4</td>\n",
       "      <td>6</td>\n",
       "      <td>10</td>\n",
       "      <td>10</td>\n",
       "    </tr>\n",
       "    <tr>\n",
       "      <th>...</th>\n",
       "      <td>...</td>\n",
       "      <td>...</td>\n",
       "      <td>...</td>\n",
       "      <td>...</td>\n",
       "      <td>...</td>\n",
       "      <td>...</td>\n",
       "      <td>...</td>\n",
       "      <td>...</td>\n",
       "      <td>...</td>\n",
       "      <td>...</td>\n",
       "      <td>...</td>\n",
       "      <td>...</td>\n",
       "      <td>...</td>\n",
       "      <td>...</td>\n",
       "      <td>...</td>\n",
       "      <td>...</td>\n",
       "      <td>...</td>\n",
       "      <td>...</td>\n",
       "      <td>...</td>\n",
       "      <td>...</td>\n",
       "      <td>...</td>\n",
       "    </tr>\n",
       "    <tr>\n",
       "      <th>390</th>\n",
       "      <td>MS</td>\n",
       "      <td>M</td>\n",
       "      <td>20</td>\n",
       "      <td>U</td>\n",
       "      <td>LE3</td>\n",
       "      <td>A</td>\n",
       "      <td>2</td>\n",
       "      <td>2</td>\n",
       "      <td>services</td>\n",
       "      <td>services</td>\n",
       "      <td>...</td>\n",
       "      <td>5</td>\n",
       "      <td>5</td>\n",
       "      <td>4</td>\n",
       "      <td>4</td>\n",
       "      <td>5</td>\n",
       "      <td>4</td>\n",
       "      <td>11</td>\n",
       "      <td>9</td>\n",
       "      <td>9</td>\n",
       "      <td>9</td>\n",
       "    </tr>\n",
       "    <tr>\n",
       "      <th>391</th>\n",
       "      <td>MS</td>\n",
       "      <td>M</td>\n",
       "      <td>17</td>\n",
       "      <td>U</td>\n",
       "      <td>LE3</td>\n",
       "      <td>T</td>\n",
       "      <td>3</td>\n",
       "      <td>1</td>\n",
       "      <td>services</td>\n",
       "      <td>services</td>\n",
       "      <td>...</td>\n",
       "      <td>2</td>\n",
       "      <td>4</td>\n",
       "      <td>5</td>\n",
       "      <td>3</td>\n",
       "      <td>4</td>\n",
       "      <td>2</td>\n",
       "      <td>3</td>\n",
       "      <td>14</td>\n",
       "      <td>16</td>\n",
       "      <td>16</td>\n",
       "    </tr>\n",
       "    <tr>\n",
       "      <th>392</th>\n",
       "      <td>MS</td>\n",
       "      <td>M</td>\n",
       "      <td>21</td>\n",
       "      <td>R</td>\n",
       "      <td>GT3</td>\n",
       "      <td>T</td>\n",
       "      <td>1</td>\n",
       "      <td>1</td>\n",
       "      <td>other</td>\n",
       "      <td>other</td>\n",
       "      <td>...</td>\n",
       "      <td>5</td>\n",
       "      <td>5</td>\n",
       "      <td>3</td>\n",
       "      <td>3</td>\n",
       "      <td>3</td>\n",
       "      <td>3</td>\n",
       "      <td>3</td>\n",
       "      <td>10</td>\n",
       "      <td>8</td>\n",
       "      <td>7</td>\n",
       "    </tr>\n",
       "    <tr>\n",
       "      <th>393</th>\n",
       "      <td>MS</td>\n",
       "      <td>M</td>\n",
       "      <td>18</td>\n",
       "      <td>R</td>\n",
       "      <td>LE3</td>\n",
       "      <td>T</td>\n",
       "      <td>3</td>\n",
       "      <td>2</td>\n",
       "      <td>services</td>\n",
       "      <td>other</td>\n",
       "      <td>...</td>\n",
       "      <td>4</td>\n",
       "      <td>4</td>\n",
       "      <td>1</td>\n",
       "      <td>3</td>\n",
       "      <td>4</td>\n",
       "      <td>5</td>\n",
       "      <td>0</td>\n",
       "      <td>11</td>\n",
       "      <td>12</td>\n",
       "      <td>10</td>\n",
       "    </tr>\n",
       "    <tr>\n",
       "      <th>394</th>\n",
       "      <td>MS</td>\n",
       "      <td>M</td>\n",
       "      <td>19</td>\n",
       "      <td>U</td>\n",
       "      <td>LE3</td>\n",
       "      <td>T</td>\n",
       "      <td>1</td>\n",
       "      <td>1</td>\n",
       "      <td>other</td>\n",
       "      <td>at_home</td>\n",
       "      <td>...</td>\n",
       "      <td>3</td>\n",
       "      <td>2</td>\n",
       "      <td>3</td>\n",
       "      <td>3</td>\n",
       "      <td>3</td>\n",
       "      <td>5</td>\n",
       "      <td>5</td>\n",
       "      <td>8</td>\n",
       "      <td>9</td>\n",
       "      <td>9</td>\n",
       "    </tr>\n",
       "  </tbody>\n",
       "</table>\n",
       "<p>395 rows × 33 columns</p>\n",
       "</div>"
      ],
      "text/plain": [
       "    school sex  age address famsize Pstatus  Medu  Fedu      Mjob      Fjob  \\\n",
       "0       GP   F   18       U     GT3       A     4     4   at_home   teacher   \n",
       "1       GP   F   17       U     GT3       T     1     1   at_home     other   \n",
       "2       GP   F   15       U     LE3       T     1     1   at_home     other   \n",
       "3       GP   F   15       U     GT3       T     4     2    health  services   \n",
       "4       GP   F   16       U     GT3       T     3     3     other     other   \n",
       "..     ...  ..  ...     ...     ...     ...   ...   ...       ...       ...   \n",
       "390     MS   M   20       U     LE3       A     2     2  services  services   \n",
       "391     MS   M   17       U     LE3       T     3     1  services  services   \n",
       "392     MS   M   21       R     GT3       T     1     1     other     other   \n",
       "393     MS   M   18       R     LE3       T     3     2  services     other   \n",
       "394     MS   M   19       U     LE3       T     1     1     other   at_home   \n",
       "\n",
       "     ... famrel freetime  goout  Dalc  Walc health absences  G1  G2  G3  \n",
       "0    ...      4        3      4     1     1      3        6   5   6   6  \n",
       "1    ...      5        3      3     1     1      3        4   5   5   6  \n",
       "2    ...      4        3      2     2     3      3       10   7   8  10  \n",
       "3    ...      3        2      2     1     1      5        2  15  14  15  \n",
       "4    ...      4        3      2     1     2      5        4   6  10  10  \n",
       "..   ...    ...      ...    ...   ...   ...    ...      ...  ..  ..  ..  \n",
       "390  ...      5        5      4     4     5      4       11   9   9   9  \n",
       "391  ...      2        4      5     3     4      2        3  14  16  16  \n",
       "392  ...      5        5      3     3     3      3        3  10   8   7  \n",
       "393  ...      4        4      1     3     4      5        0  11  12  10  \n",
       "394  ...      3        2      3     3     3      5        5   8   9   9  \n",
       "\n",
       "[395 rows x 33 columns]"
      ]
     },
     "execution_count": 174,
     "metadata": {},
     "output_type": "execute_result"
    }
   ],
   "source": [
    "d1"
   ]
  },
  {
   "cell_type": "code",
   "execution_count": 172,
   "metadata": {},
   "outputs": [
    {
     "data": {
      "text/html": [
       "<div>\n",
       "<style scoped>\n",
       "    .dataframe tbody tr th:only-of-type {\n",
       "        vertical-align: middle;\n",
       "    }\n",
       "\n",
       "    .dataframe tbody tr th {\n",
       "        vertical-align: top;\n",
       "    }\n",
       "\n",
       "    .dataframe thead th {\n",
       "        text-align: right;\n",
       "    }\n",
       "</style>\n",
       "<table border=\"1\" class=\"dataframe\">\n",
       "  <thead>\n",
       "    <tr style=\"text-align: right;\">\n",
       "      <th></th>\n",
       "      <th>school</th>\n",
       "      <th>sex</th>\n",
       "      <th>age</th>\n",
       "      <th>address</th>\n",
       "      <th>famsize</th>\n",
       "      <th>Pstatus</th>\n",
       "      <th>Medu</th>\n",
       "      <th>Fedu</th>\n",
       "      <th>Mjob</th>\n",
       "      <th>Fjob</th>\n",
       "      <th>...</th>\n",
       "      <th>famrel</th>\n",
       "      <th>freetime</th>\n",
       "      <th>goout</th>\n",
       "      <th>Dalc</th>\n",
       "      <th>Walc</th>\n",
       "      <th>health</th>\n",
       "      <th>absences</th>\n",
       "      <th>G1</th>\n",
       "      <th>G2</th>\n",
       "      <th>G3</th>\n",
       "    </tr>\n",
       "  </thead>\n",
       "  <tbody>\n",
       "    <tr>\n",
       "      <th>0</th>\n",
       "      <td>GP</td>\n",
       "      <td>F</td>\n",
       "      <td>18</td>\n",
       "      <td>U</td>\n",
       "      <td>GT3</td>\n",
       "      <td>A</td>\n",
       "      <td>4</td>\n",
       "      <td>4</td>\n",
       "      <td>at_home</td>\n",
       "      <td>teacher</td>\n",
       "      <td>...</td>\n",
       "      <td>4</td>\n",
       "      <td>3</td>\n",
       "      <td>4</td>\n",
       "      <td>1</td>\n",
       "      <td>1</td>\n",
       "      <td>3</td>\n",
       "      <td>4</td>\n",
       "      <td>0</td>\n",
       "      <td>11</td>\n",
       "      <td>11</td>\n",
       "    </tr>\n",
       "    <tr>\n",
       "      <th>1</th>\n",
       "      <td>GP</td>\n",
       "      <td>F</td>\n",
       "      <td>17</td>\n",
       "      <td>U</td>\n",
       "      <td>GT3</td>\n",
       "      <td>T</td>\n",
       "      <td>1</td>\n",
       "      <td>1</td>\n",
       "      <td>at_home</td>\n",
       "      <td>other</td>\n",
       "      <td>...</td>\n",
       "      <td>5</td>\n",
       "      <td>3</td>\n",
       "      <td>3</td>\n",
       "      <td>1</td>\n",
       "      <td>1</td>\n",
       "      <td>3</td>\n",
       "      <td>2</td>\n",
       "      <td>9</td>\n",
       "      <td>11</td>\n",
       "      <td>11</td>\n",
       "    </tr>\n",
       "    <tr>\n",
       "      <th>2</th>\n",
       "      <td>GP</td>\n",
       "      <td>F</td>\n",
       "      <td>15</td>\n",
       "      <td>U</td>\n",
       "      <td>LE3</td>\n",
       "      <td>T</td>\n",
       "      <td>1</td>\n",
       "      <td>1</td>\n",
       "      <td>at_home</td>\n",
       "      <td>other</td>\n",
       "      <td>...</td>\n",
       "      <td>4</td>\n",
       "      <td>3</td>\n",
       "      <td>2</td>\n",
       "      <td>2</td>\n",
       "      <td>3</td>\n",
       "      <td>3</td>\n",
       "      <td>6</td>\n",
       "      <td>12</td>\n",
       "      <td>13</td>\n",
       "      <td>12</td>\n",
       "    </tr>\n",
       "    <tr>\n",
       "      <th>3</th>\n",
       "      <td>GP</td>\n",
       "      <td>F</td>\n",
       "      <td>15</td>\n",
       "      <td>U</td>\n",
       "      <td>GT3</td>\n",
       "      <td>T</td>\n",
       "      <td>4</td>\n",
       "      <td>2</td>\n",
       "      <td>health</td>\n",
       "      <td>services</td>\n",
       "      <td>...</td>\n",
       "      <td>3</td>\n",
       "      <td>2</td>\n",
       "      <td>2</td>\n",
       "      <td>1</td>\n",
       "      <td>1</td>\n",
       "      <td>5</td>\n",
       "      <td>0</td>\n",
       "      <td>14</td>\n",
       "      <td>14</td>\n",
       "      <td>14</td>\n",
       "    </tr>\n",
       "    <tr>\n",
       "      <th>4</th>\n",
       "      <td>GP</td>\n",
       "      <td>F</td>\n",
       "      <td>16</td>\n",
       "      <td>U</td>\n",
       "      <td>GT3</td>\n",
       "      <td>T</td>\n",
       "      <td>3</td>\n",
       "      <td>3</td>\n",
       "      <td>other</td>\n",
       "      <td>other</td>\n",
       "      <td>...</td>\n",
       "      <td>4</td>\n",
       "      <td>3</td>\n",
       "      <td>2</td>\n",
       "      <td>1</td>\n",
       "      <td>2</td>\n",
       "      <td>5</td>\n",
       "      <td>0</td>\n",
       "      <td>11</td>\n",
       "      <td>13</td>\n",
       "      <td>13</td>\n",
       "    </tr>\n",
       "    <tr>\n",
       "      <th>...</th>\n",
       "      <td>...</td>\n",
       "      <td>...</td>\n",
       "      <td>...</td>\n",
       "      <td>...</td>\n",
       "      <td>...</td>\n",
       "      <td>...</td>\n",
       "      <td>...</td>\n",
       "      <td>...</td>\n",
       "      <td>...</td>\n",
       "      <td>...</td>\n",
       "      <td>...</td>\n",
       "      <td>...</td>\n",
       "      <td>...</td>\n",
       "      <td>...</td>\n",
       "      <td>...</td>\n",
       "      <td>...</td>\n",
       "      <td>...</td>\n",
       "      <td>...</td>\n",
       "      <td>...</td>\n",
       "      <td>...</td>\n",
       "      <td>...</td>\n",
       "    </tr>\n",
       "    <tr>\n",
       "      <th>644</th>\n",
       "      <td>MS</td>\n",
       "      <td>F</td>\n",
       "      <td>19</td>\n",
       "      <td>R</td>\n",
       "      <td>GT3</td>\n",
       "      <td>T</td>\n",
       "      <td>2</td>\n",
       "      <td>3</td>\n",
       "      <td>services</td>\n",
       "      <td>other</td>\n",
       "      <td>...</td>\n",
       "      <td>5</td>\n",
       "      <td>4</td>\n",
       "      <td>2</td>\n",
       "      <td>1</td>\n",
       "      <td>2</td>\n",
       "      <td>5</td>\n",
       "      <td>4</td>\n",
       "      <td>10</td>\n",
       "      <td>11</td>\n",
       "      <td>10</td>\n",
       "    </tr>\n",
       "    <tr>\n",
       "      <th>645</th>\n",
       "      <td>MS</td>\n",
       "      <td>F</td>\n",
       "      <td>18</td>\n",
       "      <td>U</td>\n",
       "      <td>LE3</td>\n",
       "      <td>T</td>\n",
       "      <td>3</td>\n",
       "      <td>1</td>\n",
       "      <td>teacher</td>\n",
       "      <td>services</td>\n",
       "      <td>...</td>\n",
       "      <td>4</td>\n",
       "      <td>3</td>\n",
       "      <td>4</td>\n",
       "      <td>1</td>\n",
       "      <td>1</td>\n",
       "      <td>1</td>\n",
       "      <td>4</td>\n",
       "      <td>15</td>\n",
       "      <td>15</td>\n",
       "      <td>16</td>\n",
       "    </tr>\n",
       "    <tr>\n",
       "      <th>646</th>\n",
       "      <td>MS</td>\n",
       "      <td>F</td>\n",
       "      <td>18</td>\n",
       "      <td>U</td>\n",
       "      <td>GT3</td>\n",
       "      <td>T</td>\n",
       "      <td>1</td>\n",
       "      <td>1</td>\n",
       "      <td>other</td>\n",
       "      <td>other</td>\n",
       "      <td>...</td>\n",
       "      <td>1</td>\n",
       "      <td>1</td>\n",
       "      <td>1</td>\n",
       "      <td>1</td>\n",
       "      <td>1</td>\n",
       "      <td>5</td>\n",
       "      <td>6</td>\n",
       "      <td>11</td>\n",
       "      <td>12</td>\n",
       "      <td>9</td>\n",
       "    </tr>\n",
       "    <tr>\n",
       "      <th>647</th>\n",
       "      <td>MS</td>\n",
       "      <td>M</td>\n",
       "      <td>17</td>\n",
       "      <td>U</td>\n",
       "      <td>LE3</td>\n",
       "      <td>T</td>\n",
       "      <td>3</td>\n",
       "      <td>1</td>\n",
       "      <td>services</td>\n",
       "      <td>services</td>\n",
       "      <td>...</td>\n",
       "      <td>2</td>\n",
       "      <td>4</td>\n",
       "      <td>5</td>\n",
       "      <td>3</td>\n",
       "      <td>4</td>\n",
       "      <td>2</td>\n",
       "      <td>6</td>\n",
       "      <td>10</td>\n",
       "      <td>10</td>\n",
       "      <td>10</td>\n",
       "    </tr>\n",
       "    <tr>\n",
       "      <th>648</th>\n",
       "      <td>MS</td>\n",
       "      <td>M</td>\n",
       "      <td>18</td>\n",
       "      <td>R</td>\n",
       "      <td>LE3</td>\n",
       "      <td>T</td>\n",
       "      <td>3</td>\n",
       "      <td>2</td>\n",
       "      <td>services</td>\n",
       "      <td>other</td>\n",
       "      <td>...</td>\n",
       "      <td>4</td>\n",
       "      <td>4</td>\n",
       "      <td>1</td>\n",
       "      <td>3</td>\n",
       "      <td>4</td>\n",
       "      <td>5</td>\n",
       "      <td>4</td>\n",
       "      <td>10</td>\n",
       "      <td>11</td>\n",
       "      <td>11</td>\n",
       "    </tr>\n",
       "  </tbody>\n",
       "</table>\n",
       "<p>649 rows × 33 columns</p>\n",
       "</div>"
      ],
      "text/plain": [
       "    school sex  age address famsize Pstatus  Medu  Fedu      Mjob      Fjob  \\\n",
       "0       GP   F   18       U     GT3       A     4     4   at_home   teacher   \n",
       "1       GP   F   17       U     GT3       T     1     1   at_home     other   \n",
       "2       GP   F   15       U     LE3       T     1     1   at_home     other   \n",
       "3       GP   F   15       U     GT3       T     4     2    health  services   \n",
       "4       GP   F   16       U     GT3       T     3     3     other     other   \n",
       "..     ...  ..  ...     ...     ...     ...   ...   ...       ...       ...   \n",
       "644     MS   F   19       R     GT3       T     2     3  services     other   \n",
       "645     MS   F   18       U     LE3       T     3     1   teacher  services   \n",
       "646     MS   F   18       U     GT3       T     1     1     other     other   \n",
       "647     MS   M   17       U     LE3       T     3     1  services  services   \n",
       "648     MS   M   18       R     LE3       T     3     2  services     other   \n",
       "\n",
       "     ... famrel freetime  goout  Dalc  Walc health absences  G1  G2  G3  \n",
       "0    ...      4        3      4     1     1      3        4   0  11  11  \n",
       "1    ...      5        3      3     1     1      3        2   9  11  11  \n",
       "2    ...      4        3      2     2     3      3        6  12  13  12  \n",
       "3    ...      3        2      2     1     1      5        0  14  14  14  \n",
       "4    ...      4        3      2     1     2      5        0  11  13  13  \n",
       "..   ...    ...      ...    ...   ...   ...    ...      ...  ..  ..  ..  \n",
       "644  ...      5        4      2     1     2      5        4  10  11  10  \n",
       "645  ...      4        3      4     1     1      1        4  15  15  16  \n",
       "646  ...      1        1      1     1     1      5        6  11  12   9  \n",
       "647  ...      2        4      5     3     4      2        6  10  10  10  \n",
       "648  ...      4        4      1     3     4      5        4  10  11  11  \n",
       "\n",
       "[649 rows x 33 columns]"
      ]
     },
     "execution_count": 172,
     "metadata": {},
     "output_type": "execute_result"
    }
   ],
   "source": [
    "d2"
   ]
  },
  {
   "cell_type": "markdown",
   "metadata": {},
   "source": [
    "Содержание:\n",
    "Атрибуты для двух наборов данных student-mat.csv (курс математики) и student-por.csv (курс португальского языка) :\n",
    "\n",
    "**school** - индекс школы (категория: \"GP\" - Габриэль Перейра или \"MS\" - Мусинью да Сильвейра)       \n",
    "**age** - возраст (число: от 15 до 22 лет)  \n",
    "**address** -тип домашнего адреса  (категория: 'U' - городской или 'R' - сельский)  \n",
    "**famsize** - размер семьи (категория: 'LE3' - меньше или равно 3 или 'GT3' - больше 3)  \n",
    "**Pstatus** - статус совместного проживания с родителями (категория: 'T' - совместное проживание или 'A' - раздельное проживание)  \n",
    "**Medu**-образование матери (0-Нет, 1-начальное образование (до 4-й класса), 2 - с 5 по 9-й класс, 3 - среднее образование или 4-высшее образование)  \n",
    "**Fedu**-образование отца (0-Нет, 1-начальное образование (до 4-й класса), 2 - с 5 по 9-й класс, 3 - среднее образование или 4-высшее образование)  \n",
    "**Mjob**-работа матери   \n",
    "**Fjob**-работа отца   \n",
    "**reason** - Причина выбора этой школы (home - близость к дому, reputation - репутация школы, course - программа школы или other - другое)  \n",
    "**guardian** - опекун студента (\"мать\", \"отец\" или \"другой\")  \n",
    "**traveltime** - время в пути от дома до школы (числовое: 1-4 час)  \n",
    "**studytime** - еженедельное учебное время (категория: 1-4 ) (numeric: 1 - <2 hours, 2 - 2 to 5 hours, 3 - 5 to 10 hours, or 4 - >10 hours)  \n",
    "**failures** - количество неудач в прошлом классе  \n",
    "**schoolsup**-дополнительная образовательная поддержка (да или нет)  \n",
    "**famsup** - семейная образовательная поддержка (да или нет)  \n",
    "**paid** - дополнительные платные занятия по предмету курса (математика или португальский язык) (да или нет)  \n",
    "**activities** -внеклассные мероприятия (да или нет)  \n",
    "**nursery** - посещаемый детский сад (да или нет)  \n",
    "**higher** - хочет получить высшее образование (да или нет)  \n",
    "**internet** - доступ в интернет дома (да или нет)  \n",
    "**romantic** - наличие романтических отношений (да или нет)  \n",
    "**famrel** -качество семейных отношений (категория : от 1-очень плохо до 5-отлично)  \n",
    "**freetime** - свободное время после школы (категория: от 1-очень низкое до 5-очень высокое)  \n",
    "**goout** - выход с друзьями (категория: от 1-очень низкий до 5-очень высокий)  \n",
    "**Dalc** - потребление алкоголя в течение рабочего дня (категория: от 1-очень низкое до 5-очень высокое)  \n",
    "**Walc** - потребление алкоголя в выходные дни (категория: от 1-очень низкое до 5-очень высокое)  \n",
    "**health** - текущее состояние здоровья (категория: от 1-очень плохо до 5-очень хорошо)  \n",
    "**absences** - количество школьных прогулов (числовое значение: от 0 до 93)  \n",
    "\n",
    "*Эти оценки связаны с предметом курса, математикой или португальским языком:*\n",
    "\n",
    "**G1**-оценка первого периода (числовая: от 0 до 20)  \n",
    "**G2**-оценка второго периода (числовая: от 0 до 20)  \n",
    "**G3**-итоговая оценка (числовая: от 0 до 20, выходная цель)  "
   ]
  },
  {
   "cell_type": "markdown",
   "metadata": {},
   "source": [
    "**Примечание:** из двух выборок 370 студентов, принадлежат к обоим наборам данных.\n",
    "    - из сравнения исключили все что может быть атрибутом курса: оценки, прогулы, неудачи"
   ]
  },
  {
   "cell_type": "markdown",
   "metadata": {},
   "source": [
    "**Объединяем наборы данных**"
   ]
  },
  {
   "cell_type": "code",
   "execution_count": 5,
   "metadata": {},
   "outputs": [
    {
     "name": "stdout",
     "output_type": "stream",
     "text": [
      "<class 'pandas.core.frame.DataFrame'>\n",
      "Int64Index: 674 entries, 0 to 673\n",
      "Data columns (total 39 columns):\n",
      " #   Column      Non-Null Count  Dtype  \n",
      "---  ------      --------------  -----  \n",
      " 0   school      674 non-null    object \n",
      " 1   sex         674 non-null    object \n",
      " 2   age         674 non-null    int64  \n",
      " 3   address     674 non-null    object \n",
      " 4   famsize     674 non-null    object \n",
      " 5   Pstatus     674 non-null    object \n",
      " 6   Medu        674 non-null    int64  \n",
      " 7   Fedu        674 non-null    int64  \n",
      " 8   Mjob        674 non-null    object \n",
      " 9   Fjob        674 non-null    object \n",
      " 10  reason      674 non-null    object \n",
      " 11  guardian    674 non-null    object \n",
      " 12  traveltime  674 non-null    int64  \n",
      " 13  studytime   674 non-null    int64  \n",
      " 14  failures_x  395 non-null    float64\n",
      " 15  schoolsup   674 non-null    object \n",
      " 16  famsup      674 non-null    object \n",
      " 17  paid_x      395 non-null    object \n",
      " 18  activities  674 non-null    object \n",
      " 19  nursery     674 non-null    object \n",
      " 20  higher      674 non-null    object \n",
      " 21  internet    674 non-null    object \n",
      " 22  romantic    674 non-null    object \n",
      " 23  famrel      674 non-null    int64  \n",
      " 24  freetime    674 non-null    int64  \n",
      " 25  goout       674 non-null    int64  \n",
      " 26  Dalc        674 non-null    int64  \n",
      " 27  Walc        674 non-null    int64  \n",
      " 28  health      674 non-null    int64  \n",
      " 29  absences_x  395 non-null    float64\n",
      " 30  G1_x        395 non-null    float64\n",
      " 31  G2_x        395 non-null    float64\n",
      " 32  G3_x        395 non-null    float64\n",
      " 33  failures_y  649 non-null    float64\n",
      " 34  paid_y      649 non-null    object \n",
      " 35  absences_y  649 non-null    float64\n",
      " 36  G1_y        649 non-null    float64\n",
      " 37  G2_y        649 non-null    float64\n",
      " 38  G3_y        649 non-null    float64\n",
      "dtypes: float64(10), int64(11), object(18)\n",
      "memory usage: 210.6+ KB\n"
     ]
    }
   ],
   "source": [
    "d3 = d1.merge(d2, \\\n",
    "              on = ('school', 'sex', 'age', 'address', 'famsize', 'Pstatus', 'Medu', 'Fedu',\n",
    "       'Mjob', 'Fjob', 'reason', 'guardian', 'traveltime', 'studytime',\n",
    "       'schoolsup', 'famsup',  'activities', 'nursery',\n",
    "       'higher', 'internet', 'romantic', 'famrel', 'freetime', 'goout', 'Dalc',\n",
    "       'Walc', 'health'), how = 'outer'\n",
    "             )\n",
    "\n",
    "d3.info()"
   ]
  },
  {
   "cell_type": "code",
   "execution_count": 6,
   "metadata": {},
   "outputs": [],
   "source": [
    "d3.to_csv('result.csv', sep = ',', index_label='index')"
   ]
  },
  {
   "cell_type": "code",
   "execution_count": 110,
   "metadata": {},
   "outputs": [
    {
     "data": {
      "text/html": [
       "<div>\n",
       "<style scoped>\n",
       "    .dataframe tbody tr th:only-of-type {\n",
       "        vertical-align: middle;\n",
       "    }\n",
       "\n",
       "    .dataframe tbody tr th {\n",
       "        vertical-align: top;\n",
       "    }\n",
       "\n",
       "    .dataframe thead th {\n",
       "        text-align: right;\n",
       "    }\n",
       "</style>\n",
       "<table border=\"1\" class=\"dataframe\">\n",
       "  <thead>\n",
       "    <tr style=\"text-align: right;\">\n",
       "      <th></th>\n",
       "      <th>school</th>\n",
       "      <th>sex</th>\n",
       "      <th>address</th>\n",
       "      <th>famsize</th>\n",
       "      <th>Pstatus</th>\n",
       "      <th>Mjob</th>\n",
       "      <th>Fjob</th>\n",
       "      <th>reason</th>\n",
       "      <th>guardian</th>\n",
       "      <th>schoolsup</th>\n",
       "      <th>famsup</th>\n",
       "      <th>paid_x</th>\n",
       "      <th>activities</th>\n",
       "      <th>nursery</th>\n",
       "      <th>higher</th>\n",
       "      <th>internet</th>\n",
       "      <th>romantic</th>\n",
       "      <th>paid_y</th>\n",
       "      <th>subject</th>\n",
       "    </tr>\n",
       "  </thead>\n",
       "  <tbody>\n",
       "    <tr>\n",
       "      <th>count</th>\n",
       "      <td>674</td>\n",
       "      <td>674</td>\n",
       "      <td>674</td>\n",
       "      <td>674</td>\n",
       "      <td>674</td>\n",
       "      <td>674</td>\n",
       "      <td>674</td>\n",
       "      <td>674</td>\n",
       "      <td>674</td>\n",
       "      <td>674</td>\n",
       "      <td>674</td>\n",
       "      <td>395</td>\n",
       "      <td>674</td>\n",
       "      <td>674</td>\n",
       "      <td>674</td>\n",
       "      <td>674</td>\n",
       "      <td>674</td>\n",
       "      <td>649</td>\n",
       "      <td>674</td>\n",
       "    </tr>\n",
       "    <tr>\n",
       "      <th>unique</th>\n",
       "      <td>2</td>\n",
       "      <td>2</td>\n",
       "      <td>2</td>\n",
       "      <td>2</td>\n",
       "      <td>2</td>\n",
       "      <td>5</td>\n",
       "      <td>5</td>\n",
       "      <td>4</td>\n",
       "      <td>3</td>\n",
       "      <td>2</td>\n",
       "      <td>2</td>\n",
       "      <td>2</td>\n",
       "      <td>2</td>\n",
       "      <td>2</td>\n",
       "      <td>2</td>\n",
       "      <td>2</td>\n",
       "      <td>2</td>\n",
       "      <td>2</td>\n",
       "      <td>3</td>\n",
       "    </tr>\n",
       "    <tr>\n",
       "      <th>top</th>\n",
       "      <td>GP</td>\n",
       "      <td>F</td>\n",
       "      <td>U</td>\n",
       "      <td>GT3</td>\n",
       "      <td>T</td>\n",
       "      <td>other</td>\n",
       "      <td>other</td>\n",
       "      <td>course</td>\n",
       "      <td>mother</td>\n",
       "      <td>no</td>\n",
       "      <td>yes</td>\n",
       "      <td>no</td>\n",
       "      <td>no</td>\n",
       "      <td>yes</td>\n",
       "      <td>yes</td>\n",
       "      <td>yes</td>\n",
       "      <td>no</td>\n",
       "      <td>no</td>\n",
       "      <td>both</td>\n",
       "    </tr>\n",
       "    <tr>\n",
       "      <th>freq</th>\n",
       "      <td>441</td>\n",
       "      <td>396</td>\n",
       "      <td>470</td>\n",
       "      <td>472</td>\n",
       "      <td>591</td>\n",
       "      <td>265</td>\n",
       "      <td>379</td>\n",
       "      <td>295</td>\n",
       "      <td>462</td>\n",
       "      <td>604</td>\n",
       "      <td>409</td>\n",
       "      <td>214</td>\n",
       "      <td>349</td>\n",
       "      <td>537</td>\n",
       "      <td>601</td>\n",
       "      <td>514</td>\n",
       "      <td>422</td>\n",
       "      <td>610</td>\n",
       "      <td>370</td>\n",
       "    </tr>\n",
       "  </tbody>\n",
       "</table>\n",
       "</div>"
      ],
      "text/plain": [
       "       school  sex address famsize Pstatus   Mjob   Fjob  reason guardian  \\\n",
       "count     674  674     674     674     674    674    674     674      674   \n",
       "unique      2    2       2       2       2      5      5       4        3   \n",
       "top        GP    F       U     GT3       T  other  other  course   mother   \n",
       "freq      441  396     470     472     591    265    379     295      462   \n",
       "\n",
       "       schoolsup famsup paid_x activities nursery higher internet romantic  \\\n",
       "count        674    674    395        674     674    674      674      674   \n",
       "unique         2      2      2          2       2      2        2        2   \n",
       "top           no    yes     no         no     yes    yes      yes       no   \n",
       "freq         604    409    214        349     537    601      514      422   \n",
       "\n",
       "       paid_y subject  \n",
       "count     649     674  \n",
       "unique      2       3  \n",
       "top        no    both  \n",
       "freq      610     370  "
      ]
     },
     "execution_count": 110,
     "metadata": {},
     "output_type": "execute_result"
    }
   ],
   "source": [
    "d3.describe(include=[np.object])"
   ]
  },
  {
   "cell_type": "code",
   "execution_count": 112,
   "metadata": {},
   "outputs": [
    {
     "data": {
      "text/html": [
       "<div>\n",
       "<style scoped>\n",
       "    .dataframe tbody tr th:only-of-type {\n",
       "        vertical-align: middle;\n",
       "    }\n",
       "\n",
       "    .dataframe tbody tr th {\n",
       "        vertical-align: top;\n",
       "    }\n",
       "\n",
       "    .dataframe thead th {\n",
       "        text-align: right;\n",
       "    }\n",
       "</style>\n",
       "<table border=\"1\" class=\"dataframe\">\n",
       "  <thead>\n",
       "    <tr style=\"text-align: right;\">\n",
       "      <th></th>\n",
       "      <th>age</th>\n",
       "      <th>Medu</th>\n",
       "      <th>Fedu</th>\n",
       "      <th>traveltime</th>\n",
       "      <th>studytime</th>\n",
       "      <th>failures</th>\n",
       "      <th>famrel</th>\n",
       "      <th>freetime</th>\n",
       "      <th>goout</th>\n",
       "      <th>Dalc</th>\n",
       "      <th>Walc</th>\n",
       "      <th>health</th>\n",
       "      <th>absences</th>\n",
       "      <th>G1</th>\n",
       "      <th>G2</th>\n",
       "      <th>G3</th>\n",
       "    </tr>\n",
       "  </thead>\n",
       "  <tbody>\n",
       "    <tr>\n",
       "      <th>count</th>\n",
       "      <td>649.000000</td>\n",
       "      <td>649.000000</td>\n",
       "      <td>649.000000</td>\n",
       "      <td>649.000000</td>\n",
       "      <td>649.000000</td>\n",
       "      <td>649.000000</td>\n",
       "      <td>649.000000</td>\n",
       "      <td>649.000000</td>\n",
       "      <td>649.000000</td>\n",
       "      <td>649.000000</td>\n",
       "      <td>649.000000</td>\n",
       "      <td>649.000000</td>\n",
       "      <td>649.000000</td>\n",
       "      <td>649.000000</td>\n",
       "      <td>649.000000</td>\n",
       "      <td>649.000000</td>\n",
       "    </tr>\n",
       "    <tr>\n",
       "      <th>mean</th>\n",
       "      <td>16.744222</td>\n",
       "      <td>2.514638</td>\n",
       "      <td>2.306626</td>\n",
       "      <td>1.568567</td>\n",
       "      <td>1.930663</td>\n",
       "      <td>0.221880</td>\n",
       "      <td>3.930663</td>\n",
       "      <td>3.180277</td>\n",
       "      <td>3.184900</td>\n",
       "      <td>1.502311</td>\n",
       "      <td>2.280431</td>\n",
       "      <td>3.536210</td>\n",
       "      <td>3.659476</td>\n",
       "      <td>11.399076</td>\n",
       "      <td>11.570108</td>\n",
       "      <td>11.906009</td>\n",
       "    </tr>\n",
       "    <tr>\n",
       "      <th>std</th>\n",
       "      <td>1.218138</td>\n",
       "      <td>1.134552</td>\n",
       "      <td>1.099931</td>\n",
       "      <td>0.748660</td>\n",
       "      <td>0.829510</td>\n",
       "      <td>0.593235</td>\n",
       "      <td>0.955717</td>\n",
       "      <td>1.051093</td>\n",
       "      <td>1.175766</td>\n",
       "      <td>0.924834</td>\n",
       "      <td>1.284380</td>\n",
       "      <td>1.446259</td>\n",
       "      <td>4.640759</td>\n",
       "      <td>2.745265</td>\n",
       "      <td>2.913639</td>\n",
       "      <td>3.230656</td>\n",
       "    </tr>\n",
       "    <tr>\n",
       "      <th>min</th>\n",
       "      <td>15.000000</td>\n",
       "      <td>0.000000</td>\n",
       "      <td>0.000000</td>\n",
       "      <td>1.000000</td>\n",
       "      <td>1.000000</td>\n",
       "      <td>0.000000</td>\n",
       "      <td>1.000000</td>\n",
       "      <td>1.000000</td>\n",
       "      <td>1.000000</td>\n",
       "      <td>1.000000</td>\n",
       "      <td>1.000000</td>\n",
       "      <td>1.000000</td>\n",
       "      <td>0.000000</td>\n",
       "      <td>0.000000</td>\n",
       "      <td>0.000000</td>\n",
       "      <td>0.000000</td>\n",
       "    </tr>\n",
       "    <tr>\n",
       "      <th>25%</th>\n",
       "      <td>16.000000</td>\n",
       "      <td>2.000000</td>\n",
       "      <td>1.000000</td>\n",
       "      <td>1.000000</td>\n",
       "      <td>1.000000</td>\n",
       "      <td>0.000000</td>\n",
       "      <td>4.000000</td>\n",
       "      <td>3.000000</td>\n",
       "      <td>2.000000</td>\n",
       "      <td>1.000000</td>\n",
       "      <td>1.000000</td>\n",
       "      <td>2.000000</td>\n",
       "      <td>0.000000</td>\n",
       "      <td>10.000000</td>\n",
       "      <td>10.000000</td>\n",
       "      <td>10.000000</td>\n",
       "    </tr>\n",
       "    <tr>\n",
       "      <th>50%</th>\n",
       "      <td>17.000000</td>\n",
       "      <td>2.000000</td>\n",
       "      <td>2.000000</td>\n",
       "      <td>1.000000</td>\n",
       "      <td>2.000000</td>\n",
       "      <td>0.000000</td>\n",
       "      <td>4.000000</td>\n",
       "      <td>3.000000</td>\n",
       "      <td>3.000000</td>\n",
       "      <td>1.000000</td>\n",
       "      <td>2.000000</td>\n",
       "      <td>4.000000</td>\n",
       "      <td>2.000000</td>\n",
       "      <td>11.000000</td>\n",
       "      <td>11.000000</td>\n",
       "      <td>12.000000</td>\n",
       "    </tr>\n",
       "    <tr>\n",
       "      <th>75%</th>\n",
       "      <td>18.000000</td>\n",
       "      <td>4.000000</td>\n",
       "      <td>3.000000</td>\n",
       "      <td>2.000000</td>\n",
       "      <td>2.000000</td>\n",
       "      <td>0.000000</td>\n",
       "      <td>5.000000</td>\n",
       "      <td>4.000000</td>\n",
       "      <td>4.000000</td>\n",
       "      <td>2.000000</td>\n",
       "      <td>3.000000</td>\n",
       "      <td>5.000000</td>\n",
       "      <td>6.000000</td>\n",
       "      <td>13.000000</td>\n",
       "      <td>13.000000</td>\n",
       "      <td>14.000000</td>\n",
       "    </tr>\n",
       "    <tr>\n",
       "      <th>max</th>\n",
       "      <td>22.000000</td>\n",
       "      <td>4.000000</td>\n",
       "      <td>4.000000</td>\n",
       "      <td>4.000000</td>\n",
       "      <td>4.000000</td>\n",
       "      <td>3.000000</td>\n",
       "      <td>5.000000</td>\n",
       "      <td>5.000000</td>\n",
       "      <td>5.000000</td>\n",
       "      <td>5.000000</td>\n",
       "      <td>5.000000</td>\n",
       "      <td>5.000000</td>\n",
       "      <td>32.000000</td>\n",
       "      <td>19.000000</td>\n",
       "      <td>19.000000</td>\n",
       "      <td>19.000000</td>\n",
       "    </tr>\n",
       "  </tbody>\n",
       "</table>\n",
       "</div>"
      ],
      "text/plain": [
       "              age        Medu        Fedu  traveltime   studytime    failures  \\\n",
       "count  649.000000  649.000000  649.000000  649.000000  649.000000  649.000000   \n",
       "mean    16.744222    2.514638    2.306626    1.568567    1.930663    0.221880   \n",
       "std      1.218138    1.134552    1.099931    0.748660    0.829510    0.593235   \n",
       "min     15.000000    0.000000    0.000000    1.000000    1.000000    0.000000   \n",
       "25%     16.000000    2.000000    1.000000    1.000000    1.000000    0.000000   \n",
       "50%     17.000000    2.000000    2.000000    1.000000    2.000000    0.000000   \n",
       "75%     18.000000    4.000000    3.000000    2.000000    2.000000    0.000000   \n",
       "max     22.000000    4.000000    4.000000    4.000000    4.000000    3.000000   \n",
       "\n",
       "           famrel    freetime       goout        Dalc        Walc      health  \\\n",
       "count  649.000000  649.000000  649.000000  649.000000  649.000000  649.000000   \n",
       "mean     3.930663    3.180277    3.184900    1.502311    2.280431    3.536210   \n",
       "std      0.955717    1.051093    1.175766    0.924834    1.284380    1.446259   \n",
       "min      1.000000    1.000000    1.000000    1.000000    1.000000    1.000000   \n",
       "25%      4.000000    3.000000    2.000000    1.000000    1.000000    2.000000   \n",
       "50%      4.000000    3.000000    3.000000    1.000000    2.000000    4.000000   \n",
       "75%      5.000000    4.000000    4.000000    2.000000    3.000000    5.000000   \n",
       "max      5.000000    5.000000    5.000000    5.000000    5.000000    5.000000   \n",
       "\n",
       "         absences          G1          G2          G3  \n",
       "count  649.000000  649.000000  649.000000  649.000000  \n",
       "mean     3.659476   11.399076   11.570108   11.906009  \n",
       "std      4.640759    2.745265    2.913639    3.230656  \n",
       "min      0.000000    0.000000    0.000000    0.000000  \n",
       "25%      0.000000   10.000000   10.000000   10.000000  \n",
       "50%      2.000000   11.000000   11.000000   12.000000  \n",
       "75%      6.000000   13.000000   13.000000   14.000000  \n",
       "max     32.000000   19.000000   19.000000   19.000000  "
      ]
     },
     "execution_count": 112,
     "metadata": {},
     "output_type": "execute_result"
    }
   ],
   "source": [
    "d2.describe(include=[np.number])"
   ]
  },
  {
   "cell_type": "markdown",
   "metadata": {},
   "source": [
    "**обозначим вид изучаемого предмета** "
   ]
  },
  {
   "cell_type": "code",
   "execution_count": 7,
   "metadata": {},
   "outputs": [
    {
     "data": {
      "text/plain": [
       "both          370\n",
       "portuguese    279\n",
       "math           25\n",
       "Name: subject, dtype: int64"
      ]
     },
     "execution_count": 7,
     "metadata": {},
     "output_type": "execute_result"
    }
   ],
   "source": [
    "d3.loc[d3.G1_y.isna(), 'subject'] = 'math'\n",
    "d3.loc[d3.G1_x.isna(), 'subject'] = 'portuguese'\n",
    "d3.loc[(~d3.G1_x.isna()) & (~d3.G1_y.isna()), 'subject'] = 'both'\n",
    "d3.subject.value_counts()\n",
    "# d3.info()"
   ]
  },
  {
   "cell_type": "markdown",
   "metadata": {},
   "source": [
    "**выясним гендерный состав студентов**"
   ]
  },
  {
   "cell_type": "code",
   "execution_count": 56,
   "metadata": {},
   "outputs": [
    {
     "data": {
      "image/png": "[encoded data removed]",
      "text/plain": [
       "<Figure size 432x288 with 1 Axes>"
      ]
     },
     "metadata": {},
     "output_type": "display_data"
    }
   ],
   "source": [
    "d3['sex'].value_counts().plot.pie(fontsize=14, autopct='%1.1f%%', labeldistance=1.2, \\\n",
    "                                  radius=1.5, colors=['#ffd1df', '#a2cffe'],labels=['Female', 'Male'], startangle=90)\n",
    "axis = plt.axis('equal')"
   ]
  },
  {
   "cell_type": "code",
   "execution_count": 9,
   "metadata": {},
   "outputs": [
    {
     "data": {
      "text/plain": [
       "F    396\n",
       "M    278\n",
       "Name: sex, dtype: int64"
      ]
     },
     "execution_count": 9,
     "metadata": {},
     "output_type": "execute_result"
    }
   ],
   "source": [
    "d3['sex'].value_counts()"
   ]
  },
  {
   "cell_type": "code",
   "execution_count": 10,
   "metadata": {},
   "outputs": [
    {
     "data": {
      "text/plain": [
       "GP    441\n",
       "MS    233\n",
       "Name: school, dtype: int64"
      ]
     },
     "execution_count": 10,
     "metadata": {},
     "output_type": "execute_result"
    }
   ],
   "source": [
    "d3['school'].value_counts()"
   ]
  },
  {
   "cell_type": "markdown",
   "metadata": {},
   "source": [
    "**Количество студентов на курсах с распределением по полу студента**"
   ]
  },
  {
   "cell_type": "code",
   "execution_count": 11,
   "metadata": {},
   "outputs": [
    {
     "data": {
      "image/png": "[encoded data removed]",
      "text/plain": [
       "<Figure size 432x288 with 1 Axes>"
      ]
     },
     "metadata": {
      "needs_background": "light"
     },
     "output_type": "display_data"
    }
   ],
   "source": [
    "df_temp = d3.groupby(['subject','sex']).size().to_frame(name='Count').reset_index()\n",
    "df_temp = df_temp.pivot(index='subject', columns='sex', values='Count')\n",
    "df_temp.plot(kind='barh', stacked=False, legend=True, color=('#ffd1df', '#a2cffe'))\n",
    "plt.show()"
   ]
  },
  {
   "cell_type": "markdown",
   "metadata": {},
   "source": [
    "**посмотрим сколько времени тратят ученики на учебу**"
   ]
  },
  {
   "cell_type": "code",
   "execution_count": 12,
   "metadata": {},
   "outputs": [
    {
     "data": {
      "image/png": "[encoded data removed]",
      "text/plain": [
       "<Figure size 432x288 with 1 Axes>"
      ]
     },
     "metadata": {
      "needs_background": "light"
     },
     "output_type": "display_data"
    }
   ],
   "source": [
    "df_temp3 = d3.groupby(['studytime']).size().to_frame(name='Count').reset_index()\n",
    "df_temp3.Count.plot(kind='barh', stacked=False, legend=False, color=('#a2cffe'))\n",
    "plt.yticks(range(0, 4), labels=['0-2','2-5','5-10','+10'])\n",
    "plt.show()"
   ]
  },
  {
   "cell_type": "code",
   "execution_count": 13,
   "metadata": {},
   "outputs": [
    {
     "data": {
      "image/png": "[encoded data removed]",
      "text/plain": [
       "<Figure size 432x288 with 1 Axes>"
      ]
     },
     "metadata": {},
     "output_type": "display_data"
    }
   ],
   "source": [
    "# f, ax = plt.subplots(figsize=(4, 4))\n",
    "plt.pie(d3['studytime'].value_counts().tolist(), \n",
    "        labels=['2 to 5 hours', '<2 hours', '5 to 10 hours', '>10 hours'], \n",
    "        autopct='%1.1f%%', startangle=0)\n",
    "axis = plt.axis('equal')"
   ]
  },
  {
   "cell_type": "markdown",
   "metadata": {},
   "source": [
    "в разрезе пола:"
   ]
  },
  {
   "cell_type": "code",
   "execution_count": 14,
   "metadata": {},
   "outputs": [
    {
     "data": {
      "image/png": "[encoded data removed]",
      "text/plain": [
       "<Figure size 432x288 with 1 Axes>"
      ]
     },
     "metadata": {
      "needs_background": "light"
     },
     "output_type": "display_data"
    }
   ],
   "source": [
    "df_temp2 = d3.groupby(['studytime','sex']).size().to_frame(name='Count').reset_index()\n",
    "df_temp2.pivot(index='studytime', columns='sex', values='Count').plot(kind='barh', stacked=False, legend=True, color=('#ffd1df', '#a2cffe'))\n",
    "plt.yticks(range(0, 4), labels=['0-2','2-5','5-10','+10'])\n",
    "plt.show()"
   ]
  },
  {
   "cell_type": "markdown",
   "metadata": {},
   "source": [
    "в зависисмости школы:"
   ]
  },
  {
   "cell_type": "code",
   "execution_count": 15,
   "metadata": {},
   "outputs": [
    {
     "data": {
      "image/png": "[encoded data removed]",
      "text/plain": [
       "<Figure size 432x288 with 1 Axes>"
      ]
     },
     "metadata": {
      "needs_background": "light"
     },
     "output_type": "display_data"
    }
   ],
   "source": [
    "df_temp3 = d3.groupby(['studytime','school']).size().to_frame(name='Count').reset_index()\n",
    "df_temp3.pivot(index='studytime', columns='school', values='Count').plot(kind='barh', stacked=False, legend=True, color=('#ffd1df', '#a2cffe'))\n",
    "plt.yticks(range(0, 4), labels=['0-2','2-5','5-10','+10'])\n",
    "plt.show()"
   ]
  },
  {
   "cell_type": "markdown",
   "metadata": {},
   "source": [
    "**и сколько свободного времени**"
   ]
  },
  {
   "cell_type": "code",
   "execution_count": 16,
   "metadata": {},
   "outputs": [
    {
     "data": {
      "image/png": "[encoded data removed]",
      "text/plain": [
       "<Figure size 432x288 with 1 Axes>"
      ]
     },
     "metadata": {
      "needs_background": "light"
     },
     "output_type": "display_data"
    }
   ],
   "source": [
    "df_temp4 = d3.groupby(['freetime']).size().to_frame(name='Count').reset_index()\n",
    "df_temp4.Count.plot(kind='barh', stacked=False, legend=False, color=('#a2cffe'))\n",
    "# df_temp4.pivot(index='freetime', columns='sex', values='Count').\\\n",
    "#                 plot(kind='barh', stacked=False, legend=True, color=('#ffd1df', '#a2cffe'))\n",
    "plt.yticks(range(0, 5), labels=['очень мало','мало','средне','много', 'очень много',])\n",
    "plt.show()"
   ]
  },
  {
   "cell_type": "markdown",
   "metadata": {},
   "source": [
    "в разрезе пола:"
   ]
  },
  {
   "cell_type": "code",
   "execution_count": 17,
   "metadata": {},
   "outputs": [
    {
     "data": {
      "image/png": "[encoded data removed]",
      "text/plain": [
       "<Figure size 432x288 with 1 Axes>"
      ]
     },
     "metadata": {
      "needs_background": "light"
     },
     "output_type": "display_data"
    }
   ],
   "source": [
    "df_temp5 = d3.groupby(['freetime','sex']).size().to_frame(name='Count').reset_index()\n",
    "df_temp5.pivot(index='freetime', columns='sex', values='Count').\\\n",
    "                plot(kind='barh', stacked=False, legend=True, color=('#ffd1df', '#a2cffe'))\n",
    "plt.yticks(range(0, 5), labels=['очень мало','мало','средне','много', 'очень много',])\n",
    "plt.show()"
   ]
  },
  {
   "cell_type": "markdown",
   "metadata": {},
   "source": [
    "в зависисмости школы:"
   ]
  },
  {
   "cell_type": "code",
   "execution_count": 18,
   "metadata": {},
   "outputs": [
    {
     "data": {
      "image/png": "[encoded data removed]",
      "text/plain": [
       "<Figure size 432x288 with 1 Axes>"
      ]
     },
     "metadata": {
      "needs_background": "light"
     },
     "output_type": "display_data"
    }
   ],
   "source": [
    "df_temp6 = d3.groupby(['freetime','school']).size().to_frame(name='Count').reset_index()\n",
    "df_temp6.pivot(index='freetime', columns='school', values='Count').\\\n",
    "                plot(kind='barh', stacked=False, legend=True, color=('#ffd1df', '#a2cffe'))\n",
    "plt.yticks(range(0, 5), labels=['очень мало','мало','средне','много', 'очень много',])\n",
    "plt.show()"
   ]
  },
  {
   "cell_type": "markdown",
   "metadata": {},
   "source": [
    "**и есть ли зависимость от вида  курса**"
   ]
  },
  {
   "cell_type": "code",
   "execution_count": 19,
   "metadata": {},
   "outputs": [
    {
     "data": {
      "text/plain": [
       "['both', 'math', 'portuguese']"
      ]
     },
     "execution_count": 19,
     "metadata": {},
     "output_type": "execute_result"
    }
   ],
   "source": [
    "subject = df_temp.index.to_list()\n",
    "subject"
   ]
  },
  {
   "cell_type": "code",
   "execution_count": 20,
   "metadata": {},
   "outputs": [
    {
     "data": {
      "image/png": "[encoded data removed]",
      "text/plain": [
       "<Figure size 432x288 with 1 Axes>"
      ]
     },
     "metadata": {
      "needs_background": "light"
     },
     "output_type": "display_data"
    },
    {
     "data": {
      "image/png": "[encoded data removed]",
      "text/plain": [
       "<Figure size 432x288 with 1 Axes>"
      ]
     },
     "metadata": {
      "needs_background": "light"
     },
     "output_type": "display_data"
    },
    {
     "data": {
      "image/png": "[encoded data removed]",
      "text/plain": [
       "<Figure size 432x288 with 1 Axes>"
      ]
     },
     "metadata": {
      "needs_background": "light"
     },
     "output_type": "display_data"
    }
   ],
   "source": [
    "for classname in subject:\n",
    "    d3[d3.subject==classname].groupby(['studytime','sex']).size().to_frame(name='Count').reset_index().\\\n",
    "                    pivot(index='studytime', columns='sex', values='Count').plot(kind='barh', stacked=False, \\\n",
    "                                                                          legend=True, color=('#ffd1df', '#a2cffe'))\n",
    "    plt.yticks(range(0, 4), labels=['0-2','2-5','5-10','+10'])\n",
    "    plt.title(classname)\n",
    "    "
   ]
  },
  {
   "cell_type": "markdown",
   "metadata": {},
   "source": [
    "Можно сделать вывод, что на учебу  большинство из них тратят не более пяти часов,  и у  большинства из них достаточно много своболного времени"
   ]
  },
  {
   "cell_type": "markdown",
   "metadata": {},
   "source": [
    "**распределение учащихся по возрасту**"
   ]
  },
  {
   "cell_type": "code",
   "execution_count": 159,
   "metadata": {},
   "outputs": [
    {
     "data": {
      "image/png": "[encoded data removed]",
      "text/plain": [
       "<Figure size 360x288 with 1 Axes>"
      ]
     },
     "metadata": {
      "needs_background": "light"
     },
     "output_type": "display_data"
    }
   ],
   "source": [
    "fig, ax = plt.subplots(figsize=(5, 4))\n",
    "sns.distplot(d3['age'],  \n",
    "             hist_kws={\"alpha\": 1, \"color\": \"#a2cffe\"}, \n",
    "             kde=False, bins=8)\n",
    "ax = ax.set( xlabel=\"Возраст\")"
   ]
  },
  {
   "cell_type": "markdown",
   "metadata": {},
   "source": [
    "## Рассмотрим есть ли зависимость ежедневного потребления алкоголя школьниками от различных показателей. Для этого будем рассматривать равные выборки"
   ]
  },
  {
   "cell_type": "markdown",
   "metadata": {},
   "source": [
    "### Есть ли зависимость от того, кто является опекуном учащегося"
   ]
  },
  {
   "cell_type": "code",
   "execution_count": 157,
   "metadata": {},
   "outputs": [
    {
     "data": {
      "text/plain": [
       "mother    462\n",
       "father    155\n",
       "other      57\n",
       "Name: guardian, dtype: int64"
      ]
     },
     "execution_count": 157,
     "metadata": {},
     "output_type": "execute_result"
    }
   ],
   "source": [
    "d3.guardian.value_counts()"
   ]
  },
  {
   "cell_type": "code",
   "execution_count": 130,
   "metadata": {},
   "outputs": [],
   "source": [
    "grd = pd.concat([d3[d3.guardian == 'mother'].sample(n = 155),\\\n",
    "                d3[d3.guardian == 'father'].sample(n = 155)], axis = 0)"
   ]
  },
  {
   "cell_type": "code",
   "execution_count": 24,
   "metadata": {},
   "outputs": [
    {
     "data": {
      "text/plain": [
       "<matplotlib.axes._subplots.AxesSubplot at 0x2087f186108>"
      ]
     },
     "execution_count": 24,
     "metadata": {},
     "output_type": "execute_result"
    },
    {
     "data": {
      "image/png": "[encoded data removed]",
      "text/plain": [
       "<Figure size 432x288 with 1 Axes>"
      ]
     },
     "metadata": {
      "needs_background": "light"
     },
     "output_type": "display_data"
    }
   ],
   "source": [
    "sns.countplot(x = 'Dalc', hue = 'guardian', data = grd)"
   ]
  },
  {
   "cell_type": "markdown",
   "metadata": {},
   "source": [
    "**Можно сделать вывод, что отец \"father\" более \"лояльный\" родитель  количество употребляемого алкоголя выше, если опекуном является \"father\"**"
   ]
  },
  {
   "cell_type": "markdown",
   "metadata": {},
   "source": [
    "### Есть ли зависимость количества выпиваемого алкоголя от изучаемого предмета "
   ]
  },
  {
   "cell_type": "code",
   "execution_count": 25,
   "metadata": {},
   "outputs": [
    {
     "data": {
      "text/plain": [
       "both          370\n",
       "portuguese    279\n",
       "math           25\n",
       "Name: subject, dtype: int64"
      ]
     },
     "execution_count": 25,
     "metadata": {},
     "output_type": "execute_result"
    }
   ],
   "source": [
    "d3.subject.value_counts()"
   ]
  },
  {
   "cell_type": "code",
   "execution_count": 26,
   "metadata": {},
   "outputs": [],
   "source": [
    "sub = pd.concat([d3[d3.subject == 'both'].sample(n = 279),\\\n",
    "                d3[d3.subject == 'portuguese'].sample(n = 279)], axis = 0)"
   ]
  },
  {
   "cell_type": "code",
   "execution_count": 27,
   "metadata": {},
   "outputs": [
    {
     "data": {
      "text/plain": [
       "<matplotlib.axes._subplots.AxesSubplot at 0x2087f458bc8>"
      ]
     },
     "execution_count": 27,
     "metadata": {},
     "output_type": "execute_result"
    },
    {
     "data": {
      "image/png": "[encoded data removed]",
      "text/plain": [
       "<Figure size 432x288 with 1 Axes>"
      ]
     },
     "metadata": {
      "needs_background": "light"
     },
     "output_type": "display_data"
    }
   ],
   "source": [
    " sns.countplot(x = 'Dalc', hue = 'subject', data = sub)"
   ]
  },
  {
   "cell_type": "markdown",
   "metadata": {},
   "source": [
    "**Особо выраженной зависимости не наблюдается , разве что изучающие только порттугальский язык  в большои количестве выпивают больше, возможно из-за того что у них больше своюожглшл времени**"
   ]
  },
  {
   "cell_type": "markdown",
   "metadata": {},
   "source": [
    "### Рассмотрим количество употребляемого алкоголя в зависимости от учебного учреждения"
   ]
  },
  {
   "cell_type": "code",
   "execution_count": 28,
   "metadata": {},
   "outputs": [
    {
     "data": {
      "text/plain": [
       "GP    441\n",
       "MS    233\n",
       "Name: school, dtype: int64"
      ]
     },
     "execution_count": 28,
     "metadata": {},
     "output_type": "execute_result"
    }
   ],
   "source": [
    "d3.school.value_counts()"
   ]
  },
  {
   "cell_type": "code",
   "execution_count": 29,
   "metadata": {},
   "outputs": [],
   "source": [
    "sch = pd.concat([d3[d3.school == 'GP'].sample(n = 233),\\\n",
    "          d3[d3.school == 'MS'].sample(n = 233)], axis = 0)"
   ]
  },
  {
   "cell_type": "code",
   "execution_count": 30,
   "metadata": {},
   "outputs": [
    {
     "data": {
      "text/plain": [
       "<matplotlib.axes._subplots.AxesSubplot at 0x2087f4d8dc8>"
      ]
     },
     "execution_count": 30,
     "metadata": {},
     "output_type": "execute_result"
    },
    {
     "data": {
      "image/png": "[encoded data removed]",
      "text/plain": [
       "<Figure size 432x288 with 1 Axes>"
      ]
     },
     "metadata": {
      "needs_background": "light"
     },
     "output_type": "display_data"
    }
   ],
   "source": [
    "sns.countplot(x = 'Dalc', hue = 'school', data = sch)"
   ]
  },
  {
   "cell_type": "markdown",
   "metadata": {},
   "source": [
    "**Здесь мы видим, что в малом количестве  больше выпивают в школе GP, большее количество алкоголя употребляют школьники школы MS**"
   ]
  },
  {
   "cell_type": "markdown",
   "metadata": {},
   "source": [
    "### Рассмотрим количество употребляемого алкоголя в зависимости от пола ученика"
   ]
  },
  {
   "cell_type": "code",
   "execution_count": 31,
   "metadata": {},
   "outputs": [
    {
     "data": {
      "text/plain": [
       "F    396\n",
       "M    278\n",
       "Name: sex, dtype: int64"
      ]
     },
     "execution_count": 31,
     "metadata": {},
     "output_type": "execute_result"
    }
   ],
   "source": [
    "d3.sex.value_counts()"
   ]
  },
  {
   "cell_type": "code",
   "execution_count": 32,
   "metadata": {},
   "outputs": [],
   "source": [
    "sex = pd.concat([d3[d3.sex == 'M'].sample(n = 278),\\\n",
    "          d3[d3.sex == 'F'].sample(n = 278)], axis = 0)"
   ]
  },
  {
   "cell_type": "code",
   "execution_count": 33,
   "metadata": {},
   "outputs": [
    {
     "data": {
      "text/plain": [
       "<matplotlib.axes._subplots.AxesSubplot at 0x2087f5636c8>"
      ]
     },
     "execution_count": 33,
     "metadata": {},
     "output_type": "execute_result"
    },
    {
     "data": {
      "image/png": "[encoded data removed]",
      "text/plain": [
       "<Figure size 432x288 with 1 Axes>"
      ]
     },
     "metadata": {
      "needs_background": "light"
     },
     "output_type": "display_data"
    }
   ],
   "source": [
    "sns.countplot(x = 'Dalc', hue = 'sex', data = sex)"
   ]
  },
  {
   "cell_type": "code",
   "execution_count": 34,
   "metadata": {},
   "outputs": [
    {
     "data": {
      "text/plain": [
       "<matplotlib.axes._subplots.AxesSubplot at 0x2087f5a4508>"
      ]
     },
     "execution_count": 34,
     "metadata": {},
     "output_type": "execute_result"
    },
    {
     "data": {
      "image/png": "[encoded data removed]",
      "text/plain": [
       "<Figure size 432x288 with 1 Axes>"
      ]
     },
     "metadata": {
      "needs_background": "light"
     },
     "output_type": "display_data"
    }
   ],
   "source": [
    "sns.countplot(x = 'Walc', hue = 'sex', data = sex)"
   ]
  },
  {
   "cell_type": "markdown",
   "metadata": {},
   "source": [
    "**Можно сделать вывод, что ученики женского пола употребляют алкоголь в меньшем количестве. Большее количество алкоголя приходится на учеников мужского пола.**"
   ]
  },
  {
   "cell_type": "markdown",
   "metadata": {},
   "source": [
    "### Рассмотрим количество употребляемого алкоголя в зависимости от места проживания"
   ]
  },
  {
   "cell_type": "code",
   "execution_count": 35,
   "metadata": {},
   "outputs": [
    {
     "data": {
      "text/plain": [
       "U    470\n",
       "R    204\n",
       "Name: address, dtype: int64"
      ]
     },
     "execution_count": 35,
     "metadata": {},
     "output_type": "execute_result"
    }
   ],
   "source": [
    "d3.address.value_counts()"
   ]
  },
  {
   "cell_type": "code",
   "execution_count": 175,
   "metadata": {},
   "outputs": [],
   "source": [
    "adr = pd.concat([d3[d3.address == 'U'].sample(n = 204),\\\n",
    "          d3[d3.address == 'R'].sample(n = 204)], axis = 0)"
   ]
  },
  {
   "cell_type": "code",
   "execution_count": 37,
   "metadata": {},
   "outputs": [
    {
     "data": {
      "text/plain": [
       "<matplotlib.axes._subplots.AxesSubplot at 0x2087f661108>"
      ]
     },
     "execution_count": 37,
     "metadata": {},
     "output_type": "execute_result"
    },
    {
     "data": {
      "image/png": "[encoded data removed]",
      "text/plain": [
       "<Figure size 432x288 with 1 Axes>"
      ]
     },
     "metadata": {
      "needs_background": "light"
     },
     "output_type": "display_data"
    }
   ],
   "source": [
    "sns.countplot(x = 'Dalc', hue = 'address', data = adr)"
   ]
  },
  {
   "cell_type": "code",
   "execution_count": 38,
   "metadata": {},
   "outputs": [
    {
     "data": {
      "text/plain": [
       "<matplotlib.axes._subplots.AxesSubplot at 0x2087f6cfa88>"
      ]
     },
     "execution_count": 38,
     "metadata": {},
     "output_type": "execute_result"
    },
    {
     "data": {
      "image/png": "[encoded data removed]",
      "text/plain": [
       "<Figure size 432x288 with 1 Axes>"
      ]
     },
     "metadata": {
      "needs_background": "light"
     },
     "output_type": "display_data"
    }
   ],
   "source": [
    "sns.countplot(x = 'Walc', hue = 'address', data = adr)"
   ]
  },
  {
   "cell_type": "markdown",
   "metadata": {},
   "source": [
    "**Тенденция что, ученики живущие вне города употребляют алкоголь в малых дозах.**"
   ]
  },
  {
   "cell_type": "markdown",
   "metadata": {},
   "source": [
    "### Покажем тенденцию употребления алкоголя от будней/выходных"
   ]
  },
  {
   "cell_type": "code",
   "execution_count": 39,
   "metadata": {},
   "outputs": [],
   "source": [
    "l=[1,2,3,4,5]\n",
    "labels=\"1-Very Low\",\"2-Low\",\"3-Medium\",\"4-High\",\"5-Very High\""
   ]
  },
  {
   "cell_type": "code",
   "execution_count": 40,
   "metadata": {},
   "outputs": [
    {
     "data": {
      "image/png": "[encoded data removed]",
      "text/plain": [
       "<Figure size 720x360 with 1 Axes>"
      ]
     },
     "metadata": {
      "needs_background": "light"
     },
     "output_type": "display_data"
    }
   ],
   "source": [
    "workday=list(map(lambda l: list(d3.Dalc).count(l),l))\n",
    "weekend=list(map(lambda l: list(d3.Walc).count(l),l))\n",
    "# plt.style.use(\"bmh\")\n",
    "plt.figure(figsize=(10,5))\n",
    "plt.plot(labels,workday,color=\"dodgerblue\",linestyle=\"--\",marker=\"X\", markersize=10,label=\"Workday\")\n",
    "plt.plot(labels,weekend,color=\"darkmagenta\",linestyle=\"--\",marker=\"X\", markersize=10,label=\"Weekend\")\n",
    "plt.title(\"Student Alcohol Consumption\")\n",
    "plt.ylabel(\"Number of Students\")\n",
    "plt.legend()\n",
    "\n",
    "\n",
    "plt.show()"
   ]
  },
  {
   "cell_type": "markdown",
   "metadata": {},
   "source": [
    "**В рабочие дни присутствует тенденция употребления алкоголя в малых количествах, в выходные дни больше учащихся употребляют алкоголь в больших количествах**"
   ]
  },
  {
   "cell_type": "markdown",
   "metadata": {},
   "source": [
    "### Рассмотрим зависимость употребления алкоголя от возраста учащихся"
   ]
  },
  {
   "cell_type": "code",
   "execution_count": 161,
   "metadata": {},
   "outputs": [
    {
     "data": {
      "image/png": "[encoded data removed]",
      "text/plain": [
       "<Figure size 360x288 with 1 Axes>"
      ]
     },
     "metadata": {
      "needs_background": "light"
     },
     "output_type": "display_data"
    }
   ],
   "source": [
    "fig, ax = plt.subplots(figsize=(5, 4))\n",
    "sns.distplot(d3['age'],  \n",
    "             hist_kws={\"alpha\": 1, \"color\": \"#a2cffe\"}, \n",
    "             kde=False, bins=8)\n",
    "ax = ax.set( xlabel=\"Возраст\")\n"
   ]
  },
  {
   "cell_type": "code",
   "execution_count": 155,
   "metadata": {},
   "outputs": [
    {
     "data": {
      "text/html": [
       "<div>\n",
       "<style scoped>\n",
       "    .dataframe tbody tr th:only-of-type {\n",
       "        vertical-align: middle;\n",
       "    }\n",
       "\n",
       "    .dataframe tbody tr th {\n",
       "        vertical-align: top;\n",
       "    }\n",
       "\n",
       "    .dataframe thead th {\n",
       "        text-align: right;\n",
       "    }\n",
       "</style>\n",
       "<table border=\"1\" class=\"dataframe\">\n",
       "  <thead>\n",
       "    <tr style=\"text-align: right;\">\n",
       "      <th></th>\n",
       "      <th>school</th>\n",
       "      <th>sex</th>\n",
       "      <th>age</th>\n",
       "      <th>address</th>\n",
       "      <th>famsize</th>\n",
       "      <th>Pstatus</th>\n",
       "      <th>Medu</th>\n",
       "      <th>Fedu</th>\n",
       "      <th>Mjob</th>\n",
       "      <th>Fjob</th>\n",
       "      <th>...</th>\n",
       "      <th>famrel</th>\n",
       "      <th>freetime</th>\n",
       "      <th>goout</th>\n",
       "      <th>Dalc</th>\n",
       "      <th>Walc</th>\n",
       "      <th>health</th>\n",
       "      <th>absences</th>\n",
       "      <th>G1</th>\n",
       "      <th>G2</th>\n",
       "      <th>G3</th>\n",
       "    </tr>\n",
       "  </thead>\n",
       "  <tbody>\n",
       "    <tr>\n",
       "      <th>0</th>\n",
       "      <td>GP</td>\n",
       "      <td>F</td>\n",
       "      <td>&gt;18</td>\n",
       "      <td>U</td>\n",
       "      <td>GT3</td>\n",
       "      <td>A</td>\n",
       "      <td>4</td>\n",
       "      <td>4</td>\n",
       "      <td>at_home</td>\n",
       "      <td>teacher</td>\n",
       "      <td>...</td>\n",
       "      <td>4</td>\n",
       "      <td>3</td>\n",
       "      <td>4</td>\n",
       "      <td>1</td>\n",
       "      <td>1</td>\n",
       "      <td>3</td>\n",
       "      <td>4</td>\n",
       "      <td>0</td>\n",
       "      <td>11</td>\n",
       "      <td>11</td>\n",
       "    </tr>\n",
       "    <tr>\n",
       "      <th>1</th>\n",
       "      <td>GP</td>\n",
       "      <td>F</td>\n",
       "      <td>17</td>\n",
       "      <td>U</td>\n",
       "      <td>GT3</td>\n",
       "      <td>T</td>\n",
       "      <td>1</td>\n",
       "      <td>1</td>\n",
       "      <td>at_home</td>\n",
       "      <td>other</td>\n",
       "      <td>...</td>\n",
       "      <td>5</td>\n",
       "      <td>3</td>\n",
       "      <td>3</td>\n",
       "      <td>1</td>\n",
       "      <td>1</td>\n",
       "      <td>3</td>\n",
       "      <td>2</td>\n",
       "      <td>9</td>\n",
       "      <td>11</td>\n",
       "      <td>11</td>\n",
       "    </tr>\n",
       "    <tr>\n",
       "      <th>2</th>\n",
       "      <td>GP</td>\n",
       "      <td>F</td>\n",
       "      <td>15</td>\n",
       "      <td>U</td>\n",
       "      <td>LE3</td>\n",
       "      <td>T</td>\n",
       "      <td>1</td>\n",
       "      <td>1</td>\n",
       "      <td>at_home</td>\n",
       "      <td>other</td>\n",
       "      <td>...</td>\n",
       "      <td>4</td>\n",
       "      <td>3</td>\n",
       "      <td>2</td>\n",
       "      <td>2</td>\n",
       "      <td>3</td>\n",
       "      <td>3</td>\n",
       "      <td>6</td>\n",
       "      <td>12</td>\n",
       "      <td>13</td>\n",
       "      <td>12</td>\n",
       "    </tr>\n",
       "    <tr>\n",
       "      <th>3</th>\n",
       "      <td>GP</td>\n",
       "      <td>F</td>\n",
       "      <td>15</td>\n",
       "      <td>U</td>\n",
       "      <td>GT3</td>\n",
       "      <td>T</td>\n",
       "      <td>4</td>\n",
       "      <td>2</td>\n",
       "      <td>health</td>\n",
       "      <td>services</td>\n",
       "      <td>...</td>\n",
       "      <td>3</td>\n",
       "      <td>2</td>\n",
       "      <td>2</td>\n",
       "      <td>1</td>\n",
       "      <td>1</td>\n",
       "      <td>5</td>\n",
       "      <td>0</td>\n",
       "      <td>14</td>\n",
       "      <td>14</td>\n",
       "      <td>14</td>\n",
       "    </tr>\n",
       "    <tr>\n",
       "      <th>4</th>\n",
       "      <td>GP</td>\n",
       "      <td>F</td>\n",
       "      <td>16</td>\n",
       "      <td>U</td>\n",
       "      <td>GT3</td>\n",
       "      <td>T</td>\n",
       "      <td>3</td>\n",
       "      <td>3</td>\n",
       "      <td>other</td>\n",
       "      <td>other</td>\n",
       "      <td>...</td>\n",
       "      <td>4</td>\n",
       "      <td>3</td>\n",
       "      <td>2</td>\n",
       "      <td>1</td>\n",
       "      <td>2</td>\n",
       "      <td>5</td>\n",
       "      <td>0</td>\n",
       "      <td>11</td>\n",
       "      <td>13</td>\n",
       "      <td>13</td>\n",
       "    </tr>\n",
       "  </tbody>\n",
       "</table>\n",
       "<p>5 rows × 33 columns</p>\n",
       "</div>"
      ],
      "text/plain": [
       "  school sex  age address famsize Pstatus  Medu  Fedu     Mjob      Fjob  ...  \\\n",
       "0     GP   F  >18       U     GT3       A     4     4  at_home   teacher  ...   \n",
       "1     GP   F   17       U     GT3       T     1     1  at_home     other  ...   \n",
       "2     GP   F   15       U     LE3       T     1     1  at_home     other  ...   \n",
       "3     GP   F   15       U     GT3       T     4     2   health  services  ...   \n",
       "4     GP   F   16       U     GT3       T     3     3    other     other  ...   \n",
       "\n",
       "  famrel freetime  goout  Dalc  Walc health absences  G1  G2  G3  \n",
       "0      4        3      4     1     1      3        4   0  11  11  \n",
       "1      5        3      3     1     1      3        2   9  11  11  \n",
       "2      4        3      2     2     3      3        6  12  13  12  \n",
       "3      3        2      2     1     1      5        0  14  14  14  \n",
       "4      4        3      2     1     2      5        0  11  13  13  \n",
       "\n",
       "[5 rows x 33 columns]"
      ]
     },
     "execution_count": 155,
     "metadata": {},
     "output_type": "execute_result"
    }
   ],
   "source": [
    "# разделим  значения возраста на 4 группы, выделим переменную ages (будем работать с датасетом d2, \n",
    "# поскольку он описывающт студентов, которые изучают  как португальский, так учатся в математическом классе)\n",
    "d2.loc[d2.age.isin([15, 16, 17]), 'age'] = d2.age\n",
    "d2.loc[~d2.age.isin([15, 16, 17]), 'age'] = '>18'\n",
    "ages = d2['age'].value_counts()\n",
    "ages\n",
    "ages_list = ages.index.to_list()\n",
    "d2.head(5)"
   ]
  },
  {
   "cell_type": "code",
   "execution_count": 127,
   "metadata": {},
   "outputs": [
    {
     "data": {
      "text/plain": [
       ">18    181\n",
       "17     179\n",
       "16     177\n",
       "15     112\n",
       "Name: age, dtype: int64"
      ]
     },
     "execution_count": 127,
     "metadata": {},
     "output_type": "execute_result"
    }
   ],
   "source": [
    "ages"
   ]
  },
  {
   "cell_type": "markdown",
   "metadata": {},
   "source": [
    "Поскольку понятно, что в датасете, описывающем студентов, которые изучают португальский присутствуют также ученики, которые учатся в математическом классе, то мы можем для дальнейших исследований использовать только этот датасет."
   ]
  },
  {
   "cell_type": "code",
   "execution_count": 165,
   "metadata": {},
   "outputs": [],
   "source": [
    "selection_by_age = pd.concat([d2[d2.age == 15].sample(n = 112), d2[d2.age == 16].sample(n = 112),\\\n",
    "                d2[d2.age == 17].sample(n = 112),\\\n",
    "                d2[d2.age == '>18'].sample(n = 112)], axis = 0)"
   ]
  },
  {
   "cell_type": "code",
   "execution_count": 166,
   "metadata": {},
   "outputs": [
    {
     "data": {
      "text/html": [
       "<style  type=\"text/css\" >\n",
       "#T_aa464690_751f_11eb_8921_80913387ad44row0_col0,#T_aa464690_751f_11eb_8921_80913387ad44row0_col1,#T_aa464690_751f_11eb_8921_80913387ad44row0_col2,#T_aa464690_751f_11eb_8921_80913387ad44row0_col3,#T_aa464690_751f_11eb_8921_80913387ad44row0_col4,#T_aa464690_751f_11eb_8921_80913387ad44row0_col5,#T_aa464690_751f_11eb_8921_80913387ad44row0_col6,#T_aa464690_751f_11eb_8921_80913387ad44row0_col8,#T_aa464690_751f_11eb_8921_80913387ad44row1_col0,#T_aa464690_751f_11eb_8921_80913387ad44row1_col2,#T_aa464690_751f_11eb_8921_80913387ad44row1_col3,#T_aa464690_751f_11eb_8921_80913387ad44row1_col5,#T_aa464690_751f_11eb_8921_80913387ad44row1_col6,#T_aa464690_751f_11eb_8921_80913387ad44row1_col8,#T_aa464690_751f_11eb_8921_80913387ad44row2_col0,#T_aa464690_751f_11eb_8921_80913387ad44row2_col2,#T_aa464690_751f_11eb_8921_80913387ad44row2_col3,#T_aa464690_751f_11eb_8921_80913387ad44row2_col5,#T_aa464690_751f_11eb_8921_80913387ad44row2_col6,#T_aa464690_751f_11eb_8921_80913387ad44row2_col8,#T_aa464690_751f_11eb_8921_80913387ad44row3_col0,#T_aa464690_751f_11eb_8921_80913387ad44row3_col2,#T_aa464690_751f_11eb_8921_80913387ad44row3_col3,#T_aa464690_751f_11eb_8921_80913387ad44row3_col5,#T_aa464690_751f_11eb_8921_80913387ad44row3_col6,#T_aa464690_751f_11eb_8921_80913387ad44row3_col7,#T_aa464690_751f_11eb_8921_80913387ad44row3_col8{\n",
       "            background-color:  #7f2704;\n",
       "            color:  #f1f1f1;\n",
       "        }#T_aa464690_751f_11eb_8921_80913387ad44row0_col7{\n",
       "            background-color:  #993103;\n",
       "            color:  #f1f1f1;\n",
       "        }#T_aa464690_751f_11eb_8921_80913387ad44row1_col1{\n",
       "            background-color:  #ad3803;\n",
       "            color:  #f1f1f1;\n",
       "        }#T_aa464690_751f_11eb_8921_80913387ad44row1_col4,#T_aa464690_751f_11eb_8921_80913387ad44row3_col4{\n",
       "            background-color:  #fdab66;\n",
       "            color:  #000000;\n",
       "        }#T_aa464690_751f_11eb_8921_80913387ad44row1_col7{\n",
       "            background-color:  #fdc692;\n",
       "            color:  #000000;\n",
       "        }#T_aa464690_751f_11eb_8921_80913387ad44row2_col1{\n",
       "            background-color:  #fff2e5;\n",
       "            color:  #000000;\n",
       "        }#T_aa464690_751f_11eb_8921_80913387ad44row2_col4,#T_aa464690_751f_11eb_8921_80913387ad44row2_col7,#T_aa464690_751f_11eb_8921_80913387ad44row3_col1{\n",
       "            background-color:  #fff5eb;\n",
       "            color:  #000000;\n",
       "        }</style><table id=\"T_aa464690_751f_11eb_8921_80913387ad44\" ><thead>    <tr>        <th class=\"blank level0\" ></th>        <th class=\"col_heading level0 col0\" colspan=3>Dalc</th>        <th class=\"col_heading level0 col3\" colspan=3>Walc</th>        <th class=\"col_heading level0 col6\" colspan=3>health</th>    </tr>    <tr>        <th class=\"blank level1\" ></th>        <th class=\"col_heading level1 col0\" >max</th>        <th class=\"col_heading level1 col1\" >mean</th>        <th class=\"col_heading level1 col2\" >min</th>        <th class=\"col_heading level1 col3\" >max</th>        <th class=\"col_heading level1 col4\" >mean</th>        <th class=\"col_heading level1 col5\" >min</th>        <th class=\"col_heading level1 col6\" >max</th>        <th class=\"col_heading level1 col7\" >mean</th>        <th class=\"col_heading level1 col8\" >min</th>    </tr>    <tr>        <th class=\"index_name level0\" >age</th>        <th class=\"blank\" ></th>        <th class=\"blank\" ></th>        <th class=\"blank\" ></th>        <th class=\"blank\" ></th>        <th class=\"blank\" ></th>        <th class=\"blank\" ></th>        <th class=\"blank\" ></th>        <th class=\"blank\" ></th>        <th class=\"blank\" ></th>    </tr></thead><tbody>\n",
       "                <tr>\n",
       "                        <th id=\"T_aa464690_751f_11eb_8921_80913387ad44level0_row0\" class=\"row_heading level0 row0\" >15</th>\n",
       "                        <td id=\"T_aa464690_751f_11eb_8921_80913387ad44row0_col0\" class=\"data row0 col0\" >5</td>\n",
       "                        <td id=\"T_aa464690_751f_11eb_8921_80913387ad44row0_col1\" class=\"data row0 col1\" >1.383929</td>\n",
       "                        <td id=\"T_aa464690_751f_11eb_8921_80913387ad44row0_col2\" class=\"data row0 col2\" >1</td>\n",
       "                        <td id=\"T_aa464690_751f_11eb_8921_80913387ad44row0_col3\" class=\"data row0 col3\" >5</td>\n",
       "                        <td id=\"T_aa464690_751f_11eb_8921_80913387ad44row0_col4\" class=\"data row0 col4\" >2.008929</td>\n",
       "                        <td id=\"T_aa464690_751f_11eb_8921_80913387ad44row0_col5\" class=\"data row0 col5\" >1</td>\n",
       "                        <td id=\"T_aa464690_751f_11eb_8921_80913387ad44row0_col6\" class=\"data row0 col6\" >5</td>\n",
       "                        <td id=\"T_aa464690_751f_11eb_8921_80913387ad44row0_col7\" class=\"data row0 col7\" >3.482143</td>\n",
       "                        <td id=\"T_aa464690_751f_11eb_8921_80913387ad44row0_col8\" class=\"data row0 col8\" >1</td>\n",
       "            </tr>\n",
       "            <tr>\n",
       "                        <th id=\"T_aa464690_751f_11eb_8921_80913387ad44level0_row1\" class=\"row_heading level0 row1\" >16</th>\n",
       "                        <td id=\"T_aa464690_751f_11eb_8921_80913387ad44row1_col0\" class=\"data row1 col0\" >5</td>\n",
       "                        <td id=\"T_aa464690_751f_11eb_8921_80913387ad44row1_col1\" class=\"data row1 col1\" >1.428571</td>\n",
       "                        <td id=\"T_aa464690_751f_11eb_8921_80913387ad44row1_col2\" class=\"data row1 col2\" >1</td>\n",
       "                        <td id=\"T_aa464690_751f_11eb_8921_80913387ad44row1_col3\" class=\"data row1 col3\" >5</td>\n",
       "                        <td id=\"T_aa464690_751f_11eb_8921_80913387ad44row1_col4\" class=\"data row1 col4\" >2.357143</td>\n",
       "                        <td id=\"T_aa464690_751f_11eb_8921_80913387ad44row1_col5\" class=\"data row1 col5\" >1</td>\n",
       "                        <td id=\"T_aa464690_751f_11eb_8921_80913387ad44row1_col6\" class=\"data row1 col6\" >5</td>\n",
       "                        <td id=\"T_aa464690_751f_11eb_8921_80913387ad44row1_col7\" class=\"data row1 col7\" >3.678571</td>\n",
       "                        <td id=\"T_aa464690_751f_11eb_8921_80913387ad44row1_col8\" class=\"data row1 col8\" >1</td>\n",
       "            </tr>\n",
       "            <tr>\n",
       "                        <th id=\"T_aa464690_751f_11eb_8921_80913387ad44level0_row2\" class=\"row_heading level0 row2\" >17</th>\n",
       "                        <td id=\"T_aa464690_751f_11eb_8921_80913387ad44row2_col0\" class=\"data row2 col0\" >5</td>\n",
       "                        <td id=\"T_aa464690_751f_11eb_8921_80913387ad44row2_col1\" class=\"data row2 col1\" >1.687500</td>\n",
       "                        <td id=\"T_aa464690_751f_11eb_8921_80913387ad44row2_col2\" class=\"data row2 col2\" >1</td>\n",
       "                        <td id=\"T_aa464690_751f_11eb_8921_80913387ad44row2_col3\" class=\"data row2 col3\" >5</td>\n",
       "                        <td id=\"T_aa464690_751f_11eb_8921_80913387ad44row2_col4\" class=\"data row2 col4\" >2.580357</td>\n",
       "                        <td id=\"T_aa464690_751f_11eb_8921_80913387ad44row2_col5\" class=\"data row2 col5\" >1</td>\n",
       "                        <td id=\"T_aa464690_751f_11eb_8921_80913387ad44row2_col6\" class=\"data row2 col6\" >5</td>\n",
       "                        <td id=\"T_aa464690_751f_11eb_8921_80913387ad44row2_col7\" class=\"data row2 col7\" >3.767857</td>\n",
       "                        <td id=\"T_aa464690_751f_11eb_8921_80913387ad44row2_col8\" class=\"data row2 col8\" >1</td>\n",
       "            </tr>\n",
       "            <tr>\n",
       "                        <th id=\"T_aa464690_751f_11eb_8921_80913387ad44level0_row3\" class=\"row_heading level0 row3\" >>18</th>\n",
       "                        <td id=\"T_aa464690_751f_11eb_8921_80913387ad44row3_col0\" class=\"data row3 col0\" >5</td>\n",
       "                        <td id=\"T_aa464690_751f_11eb_8921_80913387ad44row3_col1\" class=\"data row3 col1\" >1.696429</td>\n",
       "                        <td id=\"T_aa464690_751f_11eb_8921_80913387ad44row3_col2\" class=\"data row3 col2\" >1</td>\n",
       "                        <td id=\"T_aa464690_751f_11eb_8921_80913387ad44row3_col3\" class=\"data row3 col3\" >5</td>\n",
       "                        <td id=\"T_aa464690_751f_11eb_8921_80913387ad44row3_col4\" class=\"data row3 col4\" >2.357143</td>\n",
       "                        <td id=\"T_aa464690_751f_11eb_8921_80913387ad44row3_col5\" class=\"data row3 col5\" >1</td>\n",
       "                        <td id=\"T_aa464690_751f_11eb_8921_80913387ad44row3_col6\" class=\"data row3 col6\" >5</td>\n",
       "                        <td id=\"T_aa464690_751f_11eb_8921_80913387ad44row3_col7\" class=\"data row3 col7\" >3.455357</td>\n",
       "                        <td id=\"T_aa464690_751f_11eb_8921_80913387ad44row3_col8\" class=\"data row3 col8\" >1</td>\n",
       "            </tr>\n",
       "    </tbody></table>"
      ],
      "text/plain": [
       "<pandas.io.formats.style.Styler at 0x2087f060a48>"
      ]
     },
     "metadata": {},
     "output_type": "display_data"
    }
   ],
   "source": [
    "display(selection_by_age[[\"school\",\"sex\",\"age\",\"Dalc\",\"Walc\",\"health\"]].groupby([\"age\"]).\\\n",
    "        agg([\"max\",'mean',\"min\"]).style.background_gradient(cmap=\"Oranges_r\"))"
   ]
  },
  {
   "cell_type": "code",
   "execution_count": 167,
   "metadata": {},
   "outputs": [
    {
     "data": {
      "image/png": "[encoded data removed]",
      "text/plain": [
       "<Figure size 1080x288 with 1 Axes>"
      ]
     },
     "metadata": {
      "needs_background": "light"
     },
     "output_type": "display_data"
    }
   ],
   "source": [
    "plt.figure(figsize=[15,4])\n",
    "sns.countplot(x='Dalc', hue='age', alpha=0.9, data=selection_by_age)\n",
    "sns.despine()\n",
    "plt.title(\"Dalc by age\")\n",
    "plt.show()"
   ]
  },
  {
   "cell_type": "code",
   "execution_count": 168,
   "metadata": {},
   "outputs": [
    {
     "data": {
      "image/png": "[encoded data removed]",
      "text/plain": [
       "<Figure size 1080x288 with 1 Axes>"
      ]
     },
     "metadata": {
      "needs_background": "light"
     },
     "output_type": "display_data"
    }
   ],
   "source": [
    "plt.figure(figsize=[15,4])\n",
    "sns.countplot(x='Walc', hue='age', alpha=0.9, data=selection_by_age)\n",
    "sns.despine()\n",
    "plt.title(\"Walc by age\")\n",
    "plt.show()"
   ]
  },
  {
   "cell_type": "code",
   "execution_count": 169,
   "metadata": {},
   "outputs": [
    {
     "data": {
      "text/plain": [
       "[15, 16, 17, '>18']"
      ]
     },
     "execution_count": 169,
     "metadata": {},
     "output_type": "execute_result"
    }
   ],
   "source": [
    "df_age = selection_by_age.groupby(['age']).size().to_frame(name='Count')\n",
    "ages = df_age.index.to_list()\n",
    "ages"
   ]
  },
  {
   "cell_type": "code",
   "execution_count": 170,
   "metadata": {},
   "outputs": [
    {
     "data": {
      "image/png": "[encoded data removed]",
      "text/plain": [
       "<Figure size 720x360 with 1 Axes>"
      ]
     },
     "metadata": {
      "needs_background": "light"
     },
     "output_type": "display_data"
    }
   ],
   "source": [
    "plt.figure(figsize=(10,5))\n",
    "for age in ages:\n",
    "    workday=list(map(lambda l: list(selection_by_age[selection_by_age.age==age].Walc).count(l),l))\n",
    "    plt.plot(labels,workday,linestyle=\"--\",marker=\"X\", markersize=10,label=age)\n",
    "    plt.legend()\n",
    "plt.title(\"Walc by age\")\n",
    "plt.show()"
   ]
  },
  {
   "cell_type": "markdown",
   "metadata": {},
   "source": [
    "**Можем сделать вывод, что в 15 лет употребление алкоголя в основном малое,  в 17 лет ученики начинают употреблять значительно больше алкоголя,  и темп несколько снижается когда их возраст становится больее 18 лет**"
   ]
  },
  {
   "cell_type": "markdown",
   "metadata": {},
   "source": [
    "### И наконец рассмотрим существует ли корелляция между показателями "
   ]
  },
  {
   "cell_type": "code",
   "execution_count": 105,
   "metadata": {},
   "outputs": [
    {
     "data": {
      "image/png": "[encoded data removed]",
      "text/plain": [
       "<Figure size 1296x1296 with 2 Axes>"
      ]
     },
     "metadata": {
      "needs_background": "light"
     },
     "output_type": "display_data"
    }
   ],
   "source": [
    "d2.corr()\n",
    "\n",
    "f,ax=plt.subplots(figsize=(18,18))\n",
    "sns.heatmap(d2.corr(),annot=True,linewidth=0.5,fmt='.3f',ax=ax)\n",
    "plt.show()"
   ]
  },
  {
   "cell_type": "markdown",
   "metadata": {},
   "source": [
    "### Прямая зависимость:"
   ]
  },
  {
   "cell_type": "markdown",
   "metadata": {},
   "source": [
    "- Как видим самая большая корелляция между частотой выхода с друзьями и употреблением алкоголя в выходной день, что закономерно.\n",
    "- Также есть зависимость между количеством свободного времени и встречей с друзьями, что также закономерно. \n",
    "- Есть зависимость между уровнем образования родителей и успеваемостью школьников\n",
    "- Успеваемость прямо зависит от времени которое школьники тратят на учебу"
   ]
  },
  {
   "cell_type": "markdown",
   "metadata": {},
   "source": [
    "### Обратная зависимость:"
   ]
  },
  {
   "cell_type": "markdown",
   "metadata": {},
   "source": [
    "- Количество неудач в прошлых классахотрицательно  сказывается на успеваемость\n",
    "- Отрицательно на успеваемость сказывается также употребление алкоголя, причем сильнее сказывается употребление алкоголя в будни. "
   ]
  },
  {
   "cell_type": "markdown",
   "metadata": {},
   "source": [
    "## Рассмотрим есть ли зависимость успеваемости учеников от семейного положения и места жительства\n"
   ]
  },
  {
   "cell_type": "code",
   "execution_count": 94,
   "metadata": {},
   "outputs": [
    {
     "data": {
      "text/plain": [
       "11.906009244992296"
      ]
     },
     "execution_count": 94,
     "metadata": {},
     "output_type": "execute_result"
    }
   ],
   "source": [
    "d2['G3'].mean()"
   ]
  },
  {
   "cell_type": "markdown",
   "metadata": {},
   "source": [
    "### Успеваемость школьников из полных семей выше?"
   ]
  },
  {
   "cell_type": "markdown",
   "metadata": {},
   "source": [
    "H0: оценка учеников из полных семей >= средней    \n",
    "H1: оценка учеников из полных семей менее средней"
   ]
  },
  {
   "cell_type": "markdown",
   "metadata": {},
   "source": [
    "За alpha здесь и далее будем принимать 0.05\n",
    "\n",
    "Сравниваем значение по выборке с константой, поэтому нужен одновыборочный критерий.\n",
    "\n",
    "Тест нужен односторонний, т.к. нас интересует только неравенство в меньшую сторону.\n",
    "\n",
    "Существует мнение, что использование критерия Уэлча всегда предпочтительнее, будем придерживаться этой позиции."
   ]
  },
  {
   "cell_type": "code",
   "execution_count": 54,
   "metadata": {},
   "outputs": [
    {
     "data": {
      "text/plain": [
       "famsize\n",
       "GT3    11.811816\n",
       "LE3    12.130208\n",
       "Name: G3, dtype: float64"
      ]
     },
     "execution_count": 54,
     "metadata": {},
     "output_type": "execute_result"
    }
   ],
   "source": [
    "d2.groupby(by = 'famsize')['G3'].mean()"
   ]
  },
  {
   "cell_type": "code",
   "execution_count": 91,
   "metadata": {},
   "outputs": [
    {
     "name": "stdout",
     "output_type": "stream",
     "text": [
      "Ttest_1sampResult(statistic=1.0641625791610398, pvalue=0.2885985455460328)\n",
      "Не отвергаем нулевую нулевую гипотезу, оценка учащихся из полных семей выше средней\n"
     ]
    }
   ],
   "source": [
    "from scipy import stats as st\n",
    "alpha = 0.05\n",
    "result = st.ttest_1samp(d2[d2['famsize']=='LE3'].G3, d2['G3'].mean())\n",
    "print(result)\n",
    "\n",
    "if (result.statistic < 0) & (result.pvalue / 2 < alpha):\n",
    "    print('Отвергаем нулевую гипотезу, оценка учеников из полных семей ниже средней')\n",
    "else:\n",
    "    print('Не отвергаем нулевую нулевую гипотезу, оценка учащихся из полных семей выше средней')"
   ]
  },
  {
   "cell_type": "markdown",
   "metadata": {},
   "source": [
    "### Успеваемость школьников зависит от места проживания?"
   ]
  },
  {
   "cell_type": "markdown",
   "metadata": {},
   "source": [
    "H0: оценка учеников живущих в сельской местности >= средней  \n",
    "H1: оценка учеников живущих в сельской местности менее средней"
   ]
  },
  {
   "cell_type": "code",
   "execution_count": 92,
   "metadata": {},
   "outputs": [
    {
     "name": "stdout",
     "output_type": "stream",
     "text": [
      "Ttest_1sampResult(statistic=2.5423126979368185, pvalue=0.011345541243944532)\n",
      "Не отвергаем нулевую нулевую гипотезу, оценка учащихся проживающих в сельской местности выше средней\n"
     ]
    }
   ],
   "source": [
    "from scipy import stats as st\n",
    "alpha = 0.05\n",
    "result = st.ttest_1samp(d2[d2['address']=='U'].G3, d2['G3'].mean())\n",
    "print(result)\n",
    "\n",
    "if (result.statistic < 0) & (result.pvalue / 2 < alpha):\n",
    "    print('Отвергаем нулевую гипотезу, оценка учеников проживающих в сельской местности ниже средней')\n",
    "else:\n",
    "    print('Не отвергаем нулевую нулевую гипотезу, оценка учащихся проживающих в сельской местности выше средней')"
   ]
  },
  {
   "cell_type": "markdown",
   "metadata": {},
   "source": [
    "### Успеваемость школьников зависит от школы в которой они учатся?"
   ]
  },
  {
   "cell_type": "markdown",
   "metadata": {},
   "source": [
    "H0: оценка учеников из школы \"MS\" - Мусинью да Сильвейра >= средней\n",
    "H1: оценка учеников из школы \"MS\" менее средней"
   ]
  },
  {
   "cell_type": "code",
   "execution_count": 80,
   "metadata": {},
   "outputs": [
    {
     "data": {
      "text/plain": [
       "school\n",
       "GP    12.576832\n",
       "MS    10.650442\n",
       "Name: G3, dtype: float64"
      ]
     },
     "execution_count": 80,
     "metadata": {},
     "output_type": "execute_result"
    }
   ],
   "source": [
    "d2.groupby(by = 'school')['G3'].mean()"
   ]
  },
  {
   "cell_type": "code",
   "execution_count": 93,
   "metadata": {},
   "outputs": [
    {
     "name": "stdout",
     "output_type": "stream",
     "text": [
      "Ttest_1sampResult(statistic=-4.923148290843853, pvalue=1.6471566130266696e-06)\n",
      "Отвергаем нулевую гипотезу, оценка учеников из школы MS ниже средней\n"
     ]
    }
   ],
   "source": [
    "from scipy import stats as st\n",
    "alpha = 0.05\n",
    "result = st.ttest_1samp(d2[d2['school']=='MS'].G3, d2['G3'].mean())\n",
    "print(result)\n",
    "\n",
    "if (result.statistic < 0) & (result.pvalue / 2 < alpha):\n",
    "    print('Отвергаем нулевую гипотезу, оценка учеников из школы MS ниже средней')\n",
    "else:\n",
    "    print('Не отвергаем нулевую нулевую гипотезу, оценка школьников учащихся в школе MS выше средней')"
   ]
  },
  {
   "cell_type": "markdown",
   "metadata": {},
   "source": [
    "### Школьники одинаково учатся если проживают вместе с родителями или без них?"
   ]
  },
  {
   "cell_type": "markdown",
   "metadata": {},
   "source": [
    "H0: средняя итоговая оценка школьников  обоими статусами  совместного проживания с родителями **одинаковая**  \n",
    "H1: средняя итоговая оценка школьников  обоими статусами  совместного проживания с родителями **различается**"
   ]
  },
  {
   "cell_type": "markdown",
   "metadata": {},
   "source": [
    "Здесь нам уже нужен двухвыборочный двухсторонний критерий."
   ]
  },
  {
   "cell_type": "code",
   "execution_count": 87,
   "metadata": {},
   "outputs": [
    {
     "data": {
      "text/plain": [
       "Pstatus\n",
       "A    11.912500\n",
       "T    11.905097\n",
       "Name: G3, dtype: float64"
      ]
     },
     "execution_count": 87,
     "metadata": {},
     "output_type": "execute_result"
    }
   ],
   "source": [
    "d2.groupby(by = 'Pstatus')['G3'].mean()"
   ]
  },
  {
   "cell_type": "code",
   "execution_count": 90,
   "metadata": {},
   "outputs": [
    {
     "name": "stdout",
     "output_type": "stream",
     "text": [
      "Ttest_indResult(statistic=-0.019231320017418424, pvalue=0.9846938929083802)\n",
      "Не отвергаем нулевую гипотезу статус совместного проживания с родителями не влияет на итоговую оценку\n"
     ]
    }
   ],
   "source": [
    "result = st.ttest_ind(d2[d2['Pstatus']=='T'].G3, d2[d2['Pstatus']=='A'].G3, equal_var=False)\n",
    "print(result)\n",
    "if (result.pvalue < alpha):\n",
    "    print('Отвергаем нулевую гипотезу, школьники с разными статусами проживания с родителями учатся по разному')\n",
    "else:\n",
    "    print('Не отвергаем нулевую гипотезу статус совместного проживания с родителями не влияет на итоговую оценку')"
   ]
  },
  {
   "cell_type": "markdown",
   "metadata": {},
   "source": [
    "#### Итак, мы можем сделать вывод, что школьники из полных семей учатся лучше, однако статус проживания вместе с родителями не влияет на их успеваемость."
   ]
  },
  {
   "cell_type": "markdown",
   "metadata": {},
   "source": [
    "#### Мы также можем сделать вывод, что на успеваемость школьников благотворно влияет их проживание вне города. "
   ]
  },
  {
   "cell_type": "markdown",
   "metadata": {},
   "source": [
    "#### Средняя же успеваемость в школах, однако, зависит от того  какие ученики ( в каких статусах, и каким местожительством) учатся в этих школах"
   ]
  },
  {
   "cell_type": "code",
   "execution_count": 101,
   "metadata": {},
   "outputs": [
    {
     "name": "stdout",
     "output_type": "stream",
     "text": [
      "Данные о школе \"GP\"\n",
      "U    345\n",
      "R     78\n",
      "Name: address, dtype: int64\n",
      "\n",
      "Данные о  школе \"MS\"\n",
      "R    119\n",
      "U    107\n",
      "Name: address, dtype: int64\n",
      "\n"
     ]
    }
   ],
   "source": [
    "# Организуем вывод обобщенных данных о погибших и выживших среди мужчин и женщин\n",
    "for school in d2['school'].unique():\n",
    "    if school == 'MS':\n",
    "        print('Данные о  школе \"MS\"')\n",
    "    else:\n",
    "        print('Данные о школе \"GP\"')\n",
    "    print(d2[d2['school']==school]['address'].value_counts())\n",
    "    print()"
   ]
  }
 ],
 "metadata": {
  "kernelspec": {
   "display_name": "Python 3",
   "language": "python",
   "name": "python3"
  },
  "language_info": {
   "codemirror_mode": {
    "name": "ipython",
    "version": 3
   },
   "file_extension": ".py",
   "mimetype": "text/x-python",
   "name": "python",
   "nbconvert_exporter": "python",
   "pygments_lexer": "ipython3",
   "version": "3.7.6"
  }
 },
 "nbformat": 4,
 "nbformat_minor": 4
}
