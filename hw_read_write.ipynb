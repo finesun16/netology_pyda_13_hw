{
 "cells": [
  {
   "cell_type": "markdown",
   "metadata": {},
   "source": [
    "Домашнее задание\n",
    "\n",
    "1. Переведите содержимое файла purchase_log.txt в словарь purchases вида:\n",
    "{‘1840e0b9d4’: ‘Продукты’, …}\n",
    "\n",
    "2. Для каждого user_id в файле visit_log.csv определите третий столбец с категорией покупки (если покупка была, сам файл visit_log.csv изменять не надо). Запишите в файл funnel.csv визиты из файла visit_log.csv, в которых были покупки с указанием категории.\n",
    "\n",
    "Учтите условия на данные:\n",
    "\n",
    "    - содержимое purchase_log.txt помещается в оперативную память компьютера\n",
    "    - содержимое visit_log.csv - нет; используйте только построчную обработку этого файла"
   ]
  },
  {
   "cell_type": "code",
   "execution_count": 1,
   "metadata": {},
   "outputs": [],
   "source": [
    "from pprint import pprint\n",
    "import json"
   ]
  },
  {
   "cell_type": "code",
   "execution_count": 2,
   "metadata": {
    "scrolled": false
   },
   "outputs": [],
   "source": [
    "purchase_dict={}\n",
    "with open('purchase_log.txt', 'r', encoding='utf-8') as file:\n",
    "    for row in file:\n",
    "        row = json.loads(row.strip())\n",
    "        if row['user_id'] == 'user_id':\n",
    "            continue\n",
    "        else:\n",
    "            purchase_dict[row['user_id']]=row['category']"
   ]
  },
  {
   "cell_type": "code",
   "execution_count": 3,
   "metadata": {},
   "outputs": [],
   "source": [
    "with open('visit_log.csv', encoding='utf-8') as vis, open('funnel.csv', 'w', encoding='utf-8') as funnel:\n",
    "    for row in vis:\n",
    "        list_from_row = row.strip().split(',')\n",
    "        row = row.strip()\n",
    "        list_from_row = row.split(',')\n",
    "        if list_from_row[0] == 'user_id':\n",
    "            row = row +','+'category'\n",
    "            funnel.write(f'{row} \\n')\n",
    "        elif list_from_row[0] in purchase_dict:\n",
    "            row = row +','+ purchase_dict[list_from_row[0]]\n",
    "            funnel.write(f'{row} \\n')"
   ]
  },
  {
   "cell_type": "code",
   "execution_count": 4,
   "metadata": {},
   "outputs": [
    {
     "name": "stdout",
     "output_type": "stream",
     "text": [
      "['user_id,source,category \\n',\n",
      " '1840e0b9d4,other,Продукты \\n',\n",
      " '4e4f90fcfb,context,Электроника \\n',\n",
      " 'afea8d72fc,other,Электроника \\n',\n",
      " '2824221f38,email,Продукты \\n',\n",
      " '373a6055fe,other,Бытовая техника \\n',\n",
      " '9b2ab046f3,other,Электроника \\n',\n",
      " '9f39d307c3,context,Электроника \\n',\n",
      " '44edeffc91,context,Продукты \\n',\n",
      " '704474fa2d,other,Продукты \\n']\n"
     ]
    }
   ],
   "source": [
    "with open('funnel.csv', 'r', encoding='utf-8') as f:\n",
    "    pprint([next(f) for x in range(10)])"
   ]
  }
 ],
 "metadata": {
  "kernelspec": {
   "display_name": "Python 3",
   "language": "python",
   "name": "python3"
  },
  "language_info": {
   "codemirror_mode": {
    "name": "ipython",
    "version": 3
   },
   "file_extension": ".py",
   "mimetype": "text/x-python",
   "name": "python",
   "nbconvert_exporter": "python",
   "pygments_lexer": "ipython3",
   "version": "3.7.6"
  }
 },
 "nbformat": 4,
 "nbformat_minor": 4
}
